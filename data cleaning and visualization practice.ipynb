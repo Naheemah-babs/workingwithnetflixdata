{
 "cells": [
  {
   "cell_type": "code",
   "execution_count": 2,
   "id": "9a1ccb41-d14d-4828-bd52-0dfa314a54a3",
   "metadata": {
    "id": "9a1ccb41-d14d-4828-bd52-0dfa314a54a3"
   },
   "outputs": [],
   "source": [
    "# import relevant modules\n",
    "import pandas as pd\n",
    "import seaborn as sn\n",
    "import matplotlib.pyplot as plt\n",
    "import numpy as np"
   ]
  },
  {
   "cell_type": "code",
   "execution_count": 3,
   "id": "80b09a15-728f-4a20-af1f-0a52cbccfc82",
   "metadata": {
    "id": "80b09a15-728f-4a20-af1f-0a52cbccfc82"
   },
   "outputs": [],
   "source": [
    "# load 2019 taxi trip data collected by NYC Taxi and Limousine Commission (TLC) into a pandas dataframe\n",
    "taxis = sn.load_dataset(\"taxis\")"
   ]
  },
  {
   "cell_type": "code",
   "execution_count": 4,
   "id": "208697f5-14a6-4246-9241-1608379c52a5",
   "metadata": {
    "id": "208697f5-14a6-4246-9241-1608379c52a5",
    "outputId": "89cd9fa5-3866-4e24-ced1-16b9b9b86ea4"
   },
   "outputs": [
    {
     "data": {
      "text/html": [
       "<div>\n",
       "<style scoped>\n",
       "    .dataframe tbody tr th:only-of-type {\n",
       "        vertical-align: middle;\n",
       "    }\n",
       "\n",
       "    .dataframe tbody tr th {\n",
       "        vertical-align: top;\n",
       "    }\n",
       "\n",
       "    .dataframe thead th {\n",
       "        text-align: right;\n",
       "    }\n",
       "</style>\n",
       "<table border=\"1\" class=\"dataframe\">\n",
       "  <thead>\n",
       "    <tr style=\"text-align: right;\">\n",
       "      <th></th>\n",
       "      <th>pickup</th>\n",
       "      <th>dropoff</th>\n",
       "      <th>passengers</th>\n",
       "      <th>distance</th>\n",
       "      <th>fare</th>\n",
       "      <th>tip</th>\n",
       "      <th>tolls</th>\n",
       "      <th>total</th>\n",
       "      <th>color</th>\n",
       "      <th>payment</th>\n",
       "      <th>pickup_zone</th>\n",
       "      <th>dropoff_zone</th>\n",
       "      <th>pickup_borough</th>\n",
       "      <th>dropoff_borough</th>\n",
       "    </tr>\n",
       "  </thead>\n",
       "  <tbody>\n",
       "    <tr>\n",
       "      <th>0</th>\n",
       "      <td>2019-03-23 20:21:09</td>\n",
       "      <td>2019-03-23 20:27:24</td>\n",
       "      <td>1</td>\n",
       "      <td>1.60</td>\n",
       "      <td>7.0</td>\n",
       "      <td>2.15</td>\n",
       "      <td>0.0</td>\n",
       "      <td>12.95</td>\n",
       "      <td>yellow</td>\n",
       "      <td>credit card</td>\n",
       "      <td>Lenox Hill West</td>\n",
       "      <td>UN/Turtle Bay South</td>\n",
       "      <td>Manhattan</td>\n",
       "      <td>Manhattan</td>\n",
       "    </tr>\n",
       "    <tr>\n",
       "      <th>1</th>\n",
       "      <td>2019-03-04 16:11:55</td>\n",
       "      <td>2019-03-04 16:19:00</td>\n",
       "      <td>1</td>\n",
       "      <td>0.79</td>\n",
       "      <td>5.0</td>\n",
       "      <td>0.00</td>\n",
       "      <td>0.0</td>\n",
       "      <td>9.30</td>\n",
       "      <td>yellow</td>\n",
       "      <td>cash</td>\n",
       "      <td>Upper West Side South</td>\n",
       "      <td>Upper West Side South</td>\n",
       "      <td>Manhattan</td>\n",
       "      <td>Manhattan</td>\n",
       "    </tr>\n",
       "    <tr>\n",
       "      <th>2</th>\n",
       "      <td>2019-03-27 17:53:01</td>\n",
       "      <td>2019-03-27 18:00:25</td>\n",
       "      <td>1</td>\n",
       "      <td>1.37</td>\n",
       "      <td>7.5</td>\n",
       "      <td>2.36</td>\n",
       "      <td>0.0</td>\n",
       "      <td>14.16</td>\n",
       "      <td>yellow</td>\n",
       "      <td>credit card</td>\n",
       "      <td>Alphabet City</td>\n",
       "      <td>West Village</td>\n",
       "      <td>Manhattan</td>\n",
       "      <td>Manhattan</td>\n",
       "    </tr>\n",
       "    <tr>\n",
       "      <th>3</th>\n",
       "      <td>2019-03-10 01:23:59</td>\n",
       "      <td>2019-03-10 01:49:51</td>\n",
       "      <td>1</td>\n",
       "      <td>7.70</td>\n",
       "      <td>27.0</td>\n",
       "      <td>6.15</td>\n",
       "      <td>0.0</td>\n",
       "      <td>36.95</td>\n",
       "      <td>yellow</td>\n",
       "      <td>credit card</td>\n",
       "      <td>Hudson Sq</td>\n",
       "      <td>Yorkville West</td>\n",
       "      <td>Manhattan</td>\n",
       "      <td>Manhattan</td>\n",
       "    </tr>\n",
       "    <tr>\n",
       "      <th>4</th>\n",
       "      <td>2019-03-30 13:27:42</td>\n",
       "      <td>2019-03-30 13:37:14</td>\n",
       "      <td>3</td>\n",
       "      <td>2.16</td>\n",
       "      <td>9.0</td>\n",
       "      <td>1.10</td>\n",
       "      <td>0.0</td>\n",
       "      <td>13.40</td>\n",
       "      <td>yellow</td>\n",
       "      <td>credit card</td>\n",
       "      <td>Midtown East</td>\n",
       "      <td>Yorkville West</td>\n",
       "      <td>Manhattan</td>\n",
       "      <td>Manhattan</td>\n",
       "    </tr>\n",
       "    <tr>\n",
       "      <th>...</th>\n",
       "      <td>...</td>\n",
       "      <td>...</td>\n",
       "      <td>...</td>\n",
       "      <td>...</td>\n",
       "      <td>...</td>\n",
       "      <td>...</td>\n",
       "      <td>...</td>\n",
       "      <td>...</td>\n",
       "      <td>...</td>\n",
       "      <td>...</td>\n",
       "      <td>...</td>\n",
       "      <td>...</td>\n",
       "      <td>...</td>\n",
       "      <td>...</td>\n",
       "    </tr>\n",
       "    <tr>\n",
       "      <th>6428</th>\n",
       "      <td>2019-03-31 09:51:53</td>\n",
       "      <td>2019-03-31 09:55:27</td>\n",
       "      <td>1</td>\n",
       "      <td>0.75</td>\n",
       "      <td>4.5</td>\n",
       "      <td>1.06</td>\n",
       "      <td>0.0</td>\n",
       "      <td>6.36</td>\n",
       "      <td>green</td>\n",
       "      <td>credit card</td>\n",
       "      <td>East Harlem North</td>\n",
       "      <td>Central Harlem North</td>\n",
       "      <td>Manhattan</td>\n",
       "      <td>Manhattan</td>\n",
       "    </tr>\n",
       "    <tr>\n",
       "      <th>6429</th>\n",
       "      <td>2019-03-31 17:38:00</td>\n",
       "      <td>2019-03-31 18:34:23</td>\n",
       "      <td>1</td>\n",
       "      <td>18.74</td>\n",
       "      <td>58.0</td>\n",
       "      <td>0.00</td>\n",
       "      <td>0.0</td>\n",
       "      <td>58.80</td>\n",
       "      <td>green</td>\n",
       "      <td>credit card</td>\n",
       "      <td>Jamaica</td>\n",
       "      <td>East Concourse/Concourse Village</td>\n",
       "      <td>Queens</td>\n",
       "      <td>Bronx</td>\n",
       "    </tr>\n",
       "    <tr>\n",
       "      <th>6430</th>\n",
       "      <td>2019-03-23 22:55:18</td>\n",
       "      <td>2019-03-23 23:14:25</td>\n",
       "      <td>1</td>\n",
       "      <td>4.14</td>\n",
       "      <td>16.0</td>\n",
       "      <td>0.00</td>\n",
       "      <td>0.0</td>\n",
       "      <td>17.30</td>\n",
       "      <td>green</td>\n",
       "      <td>cash</td>\n",
       "      <td>Crown Heights North</td>\n",
       "      <td>Bushwick North</td>\n",
       "      <td>Brooklyn</td>\n",
       "      <td>Brooklyn</td>\n",
       "    </tr>\n",
       "    <tr>\n",
       "      <th>6431</th>\n",
       "      <td>2019-03-04 10:09:25</td>\n",
       "      <td>2019-03-04 10:14:29</td>\n",
       "      <td>1</td>\n",
       "      <td>1.12</td>\n",
       "      <td>6.0</td>\n",
       "      <td>0.00</td>\n",
       "      <td>0.0</td>\n",
       "      <td>6.80</td>\n",
       "      <td>green</td>\n",
       "      <td>credit card</td>\n",
       "      <td>East New York</td>\n",
       "      <td>East Flatbush/Remsen Village</td>\n",
       "      <td>Brooklyn</td>\n",
       "      <td>Brooklyn</td>\n",
       "    </tr>\n",
       "    <tr>\n",
       "      <th>6432</th>\n",
       "      <td>2019-03-13 19:31:22</td>\n",
       "      <td>2019-03-13 19:48:02</td>\n",
       "      <td>1</td>\n",
       "      <td>3.85</td>\n",
       "      <td>15.0</td>\n",
       "      <td>3.36</td>\n",
       "      <td>0.0</td>\n",
       "      <td>20.16</td>\n",
       "      <td>green</td>\n",
       "      <td>credit card</td>\n",
       "      <td>Boerum Hill</td>\n",
       "      <td>Windsor Terrace</td>\n",
       "      <td>Brooklyn</td>\n",
       "      <td>Brooklyn</td>\n",
       "    </tr>\n",
       "  </tbody>\n",
       "</table>\n",
       "<p>6433 rows × 14 columns</p>\n",
       "</div>"
      ],
      "text/plain": [
       "                   pickup              dropoff  passengers  distance  fare  \\\n",
       "0     2019-03-23 20:21:09  2019-03-23 20:27:24           1      1.60   7.0   \n",
       "1     2019-03-04 16:11:55  2019-03-04 16:19:00           1      0.79   5.0   \n",
       "2     2019-03-27 17:53:01  2019-03-27 18:00:25           1      1.37   7.5   \n",
       "3     2019-03-10 01:23:59  2019-03-10 01:49:51           1      7.70  27.0   \n",
       "4     2019-03-30 13:27:42  2019-03-30 13:37:14           3      2.16   9.0   \n",
       "...                   ...                  ...         ...       ...   ...   \n",
       "6428  2019-03-31 09:51:53  2019-03-31 09:55:27           1      0.75   4.5   \n",
       "6429  2019-03-31 17:38:00  2019-03-31 18:34:23           1     18.74  58.0   \n",
       "6430  2019-03-23 22:55:18  2019-03-23 23:14:25           1      4.14  16.0   \n",
       "6431  2019-03-04 10:09:25  2019-03-04 10:14:29           1      1.12   6.0   \n",
       "6432  2019-03-13 19:31:22  2019-03-13 19:48:02           1      3.85  15.0   \n",
       "\n",
       "       tip  tolls  total   color      payment            pickup_zone  \\\n",
       "0     2.15    0.0  12.95  yellow  credit card        Lenox Hill West   \n",
       "1     0.00    0.0   9.30  yellow         cash  Upper West Side South   \n",
       "2     2.36    0.0  14.16  yellow  credit card          Alphabet City   \n",
       "3     6.15    0.0  36.95  yellow  credit card              Hudson Sq   \n",
       "4     1.10    0.0  13.40  yellow  credit card           Midtown East   \n",
       "...    ...    ...    ...     ...          ...                    ...   \n",
       "6428  1.06    0.0   6.36   green  credit card      East Harlem North   \n",
       "6429  0.00    0.0  58.80   green  credit card                Jamaica   \n",
       "6430  0.00    0.0  17.30   green         cash    Crown Heights North   \n",
       "6431  0.00    0.0   6.80   green  credit card          East New York   \n",
       "6432  3.36    0.0  20.16   green  credit card            Boerum Hill   \n",
       "\n",
       "                          dropoff_zone pickup_borough dropoff_borough  \n",
       "0                  UN/Turtle Bay South      Manhattan       Manhattan  \n",
       "1                Upper West Side South      Manhattan       Manhattan  \n",
       "2                         West Village      Manhattan       Manhattan  \n",
       "3                       Yorkville West      Manhattan       Manhattan  \n",
       "4                       Yorkville West      Manhattan       Manhattan  \n",
       "...                                ...            ...             ...  \n",
       "6428              Central Harlem North      Manhattan       Manhattan  \n",
       "6429  East Concourse/Concourse Village         Queens           Bronx  \n",
       "6430                    Bushwick North       Brooklyn        Brooklyn  \n",
       "6431      East Flatbush/Remsen Village       Brooklyn        Brooklyn  \n",
       "6432                   Windsor Terrace       Brooklyn        Brooklyn  \n",
       "\n",
       "[6433 rows x 14 columns]"
      ]
     },
     "execution_count": 4,
     "metadata": {},
     "output_type": "execute_result"
    }
   ],
   "source": [
    "# take a look at the dataset\n",
    "taxis"
   ]
  },
  {
   "cell_type": "code",
   "execution_count": 5,
   "id": "64562c4f-ff97-40bf-b4dc-8fc1543bd21b",
   "metadata": {
    "id": "64562c4f-ff97-40bf-b4dc-8fc1543bd21b"
   },
   "outputs": [
    {
     "data": {
      "text/plain": [
       "6433"
      ]
     },
     "execution_count": 5,
     "metadata": {},
     "output_type": "execute_result"
    }
   ],
   "source": [
    "#How many rows?\n",
    "taxis.shape[0]"
   ]
  },
  {
   "cell_type": "code",
   "execution_count": 6,
   "id": "5ddd1860-f82a-4e04-8a17-05a895de8bdf",
   "metadata": {
    "id": "5ddd1860-f82a-4e04-8a17-05a895de8bdf"
   },
   "outputs": [
    {
     "data": {
      "text/plain": [
       "14"
      ]
     },
     "execution_count": 6,
     "metadata": {},
     "output_type": "execute_result"
    }
   ],
   "source": [
    "# How many columns?\n",
    "taxis.shape[1]"
   ]
  },
  {
   "cell_type": "code",
   "execution_count": 7,
   "id": "d6376fc1-0730-45a3-810f-9ba1feeaa89e",
   "metadata": {
    "id": "d6376fc1-0730-45a3-810f-9ba1feeaa89e"
   },
   "outputs": [
    {
     "data": {
      "text/plain": [
       "pickup              0\n",
       "dropoff             0\n",
       "passengers          0\n",
       "distance            0\n",
       "fare                0\n",
       "tip                 0\n",
       "tolls               0\n",
       "total               0\n",
       "color               0\n",
       "payment            44\n",
       "pickup_zone        26\n",
       "dropoff_zone       45\n",
       "pickup_borough     26\n",
       "dropoff_borough    45\n",
       "dtype: int64"
      ]
     },
     "execution_count": 7,
     "metadata": {},
     "output_type": "execute_result"
    }
   ],
   "source": [
    "# How many missing values in each column?\n",
    "taxis.isna().sum()"
   ]
  },
  {
   "cell_type": "code",
   "execution_count": 8,
   "id": "1e9dc646-7c06-46d8-93a6-ef92a59a89ac",
   "metadata": {
    "id": "1e9dc646-7c06-46d8-93a6-ef92a59a89ac"
   },
   "outputs": [
    {
     "data": {
      "text/plain": [
       "3.0246168195243133"
      ]
     },
     "execution_count": 8,
     "metadata": {},
     "output_type": "execute_result"
    }
   ],
   "source": [
    "#What is the average distance traveled by the taxi trips in this dataset?\n",
    "taxis[\"distance\"].mean()"
   ]
  },
  {
   "cell_type": "code",
   "execution_count": 9,
   "id": "d0e58e6d-6e25-41e5-8f75-e92e86f766ab",
   "metadata": {
    "id": "d0e58e6d-6e25-41e5-8f75-e92e86f766ab"
   },
   "outputs": [
    {
     "data": {
      "image/png": "[encoded data removed]",
      "text/plain": [
       "<Figure size 432x288 with 1 Axes>"
      ]
     },
     "metadata": {
      "needs_background": "light"
     },
     "output_type": "display_data"
    }
   ],
   "source": [
    "#Create a histogram to visualize the distribution of distances\n",
    "plt.hist(taxis[\"distance\"], bins = np.arange(0, 25, 3))\n",
    "plt.xlabel(\"Distance Traveled By Taxi\")\n",
    "plt.ylabel(\"Count\")\n",
    "plt.show()"
   ]
  },
  {
   "cell_type": "markdown",
   "id": "f3e13e39-e284-400a-8e85-97459b6700f8",
   "metadata": {
    "id": "f3e13e39-e284-400a-8e85-97459b6700f8"
   },
   "source": [
    "What do notice you about the shape of the distribution given the histogram above?\n"
   ]
  },
  {
   "cell_type": "markdown",
   "id": "a7ec16d9-8421-4350-9484-4f994bfb3214",
   "metadata": {
    "id": "a7ec16d9-8421-4350-9484-4f994bfb3214"
   },
   "source": [
    "The distribution is right-skewed, with a peak at the left and a long tail at the right. This indicates that the mean distance is greater than the median distance, and shorter distances are more frequent."
   ]
  },
  {
   "cell_type": "code",
   "execution_count": 10,
   "id": "d3dcb949-629f-4dec-be4c-e0e366584a7d",
   "metadata": {
    "id": "d3dcb949-629f-4dec-be4c-e0e366584a7d"
   },
   "outputs": [
    {
     "data": {
      "image/png": "[encoded data removed]",
      "text/plain": [
       "<Figure size 432x288 with 1 Axes>"
      ]
     },
     "metadata": {
      "needs_background": "light"
     },
     "output_type": "display_data"
    }
   ],
   "source": [
    "#  a scatterplot to visualize total cost of taxi trip over distance traveled.\n",
    "plt.scatter(x = taxis[\"distance\"], y = taxis[\"total\"], s = 3)\n",
    "plt.xlabel(\"Distance Traveled\")\n",
    "plt.ylabel(\"Total Cost of Taxi Trip\")\n",
    "plt.show()"
   ]
  },
  {
   "cell_type": "markdown",
   "id": "2f449ee9-832b-475f-81b0-6b1474a48152",
   "metadata": {
    "id": "2f449ee9-832b-475f-81b0-6b1474a48152"
   },
   "source": [
    "What trend do you see in the scatterplot?"
   ]
  },
  {
   "cell_type": "markdown",
   "id": "073d885f-b55e-407c-acb7-1d16f5c350c2",
   "metadata": {
    "id": "073d885f-b55e-407c-acb7-1d16f5c350c2"
   },
   "source": [
    "There seems to be a positive association between distance traveled and total cost of taxi trip. Taxi trips that cover longer distances cost more."
   ]
  },
  {
   "cell_type": "code",
   "execution_count": 11,
   "id": "70d963be-d70c-4451-81e8-7f0743ad5d2c",
   "metadata": {
    "id": "70d963be-d70c-4451-81e8-7f0743ad5d2c"
   },
   "outputs": [
    {
     "data": {
      "text/plain": [
       "0       credit card\n",
       "1              cash\n",
       "2       credit card\n",
       "3       credit card\n",
       "4       credit card\n",
       "           ...     \n",
       "6428    credit card\n",
       "6429    credit card\n",
       "6430           cash\n",
       "6431    credit card\n",
       "6432    credit card\n",
       "Name: payment, Length: 6389, dtype: object"
      ]
     },
     "execution_count": 11,
     "metadata": {},
     "output_type": "execute_result"
    }
   ],
   "source": [
    "#Drop the rows where there is a missing value in the \"payment\" column.\n",
    "pay = taxis[\"payment\"].dropna()\n",
    "pay"
   ]
  },
  {
   "cell_type": "code",
   "execution_count": 12,
   "id": "c754fa89-515f-4e33-95e3-504d1364ae4d",
   "metadata": {
    "id": "c754fa89-515f-4e33-95e3-504d1364ae4d"
   },
   "outputs": [
    {
     "data": {
      "text/plain": [
       "0"
      ]
     },
     "execution_count": 12,
     "metadata": {},
     "output_type": "execute_result"
    }
   ],
   "source": [
    "#Confirm that there are no missing values in the \"payment\" column .\n",
    "pay.isna().sum()"
   ]
  },
  {
   "cell_type": "code",
   "execution_count": 13,
   "id": "21973613-ec9e-4f42-86f4-46de669afdbd",
   "metadata": {
    "id": "21973613-ec9e-4f42-86f4-46de669afdbd"
   },
   "outputs": [
    {
     "data": {
      "text/plain": [
       "array(['credit card', 'cash'], dtype=object)"
      ]
     },
     "execution_count": 13,
     "metadata": {},
     "output_type": "execute_result"
    }
   ],
   "source": [
    "#What are the different forms of payment?\n",
    "pay.unique()"
   ]
  },
  {
   "cell_type": "code",
   "execution_count": 14,
   "id": "07185334-1be2-4d41-b3d3-17a93ebb90a6",
   "metadata": {
    "id": "07185334-1be2-4d41-b3d3-17a93ebb90a6"
   },
   "outputs": [
    {
     "data": {
      "image/png": "[encoded data removed]",
      "text/plain": [
       "<Figure size 432x288 with 1 Axes>"
      ]
     },
     "metadata": {
      "needs_background": "light"
     },
     "output_type": "display_data"
    }
   ],
   "source": [
    "#Create a countplot to visualize how many taxi trips were payed for via each form of payment.\n",
    "sn.countplot(x = \"payment\", data = taxis)\n",
    "plt.show()"
   ]
  },
  {
   "cell_type": "markdown",
   "id": "69dc31f0-5d02-4f68-9b5c-8ebbba7e99bf",
   "metadata": {
    "id": "69dc31f0-5d02-4f68-9b5c-8ebbba7e99bf"
   },
   "source": [
    "From the visualization, what can you tell about the distribution of taxi trips across payment form?\n",
    "credit cards payment are higher than cash payment"
   ]
  },
  {
   "cell_type": "code",
   "execution_count": 15,
   "id": "ef51cd17-48b5-433a-9bfa-da2b37640249",
   "metadata": {
    "id": "ef51cd17-48b5-433a-9bfa-da2b37640249"
   },
   "outputs": [
    {
     "data": {
      "text/plain": [
       "credit card    4577\n",
       "cash           1812\n",
       "Name: payment, dtype: int64"
      ]
     },
     "execution_count": 15,
     "metadata": {},
     "output_type": "execute_result"
    }
   ],
   "source": [
    "#How many taxi trips were payed for via each form of payment?\n",
    "pay.value_counts()"
   ]
  },
  {
   "cell_type": "code",
   "execution_count": 16,
   "id": "cdbbe345-dcb0-45b2-a495-3578e3c2445e",
   "metadata": {
    "id": "cdbbe345-dcb0-45b2-a495-3578e3c2445e"
   },
   "outputs": [],
   "source": [
    "#Drop rows where there is a missing value in the \"pickup_borough\" column\n",
    "pick = taxis[\"pickup_borough\"].dropna()"
   ]
  },
  {
   "cell_type": "code",
   "execution_count": 17,
   "id": "550a64d7-942e-4038-964a-bcd60177906a",
   "metadata": {
    "id": "550a64d7-942e-4038-964a-bcd60177906a"
   },
   "outputs": [
    {
     "data": {
      "text/plain": [
       "0"
      ]
     },
     "execution_count": 17,
     "metadata": {},
     "output_type": "execute_result"
    }
   ],
   "source": [
    "#Confirm that there are no missing values in the \"pickup_borough\" column now.\n",
    "pick.isna().sum()"
   ]
  },
  {
   "cell_type": "code",
   "execution_count": 18,
   "id": "9a1e0706-ca45-4bd4-89d5-1f3c0de8591f",
   "metadata": {
    "id": "9a1e0706-ca45-4bd4-89d5-1f3c0de8591f"
   },
   "outputs": [
    {
     "data": {
      "text/plain": [
       "array(['Manhattan', 'Queens', 'Bronx', 'Brooklyn'], dtype=object)"
      ]
     },
     "execution_count": 18,
     "metadata": {},
     "output_type": "execute_result"
    }
   ],
   "source": [
    "#What are the different boroughs from which taxi pickups occur according to the dataset?\n",
    "pick.unique()"
   ]
  },
  {
   "cell_type": "code",
   "execution_count": 19,
   "id": "7f30ef37-843f-4e15-b286-b81be4f0c01b",
   "metadata": {
    "id": "7f30ef37-843f-4e15-b286-b81be4f0c01b"
   },
   "outputs": [
    {
     "data": {
      "image/png": "[encoded data removed]",
      "text/plain": [
       "<Figure size 432x288 with 1 Axes>"
      ]
     },
     "metadata": {
      "needs_background": "light"
     },
     "output_type": "display_data"
    }
   ],
   "source": [
    "#Create a countplot to visualize the distribution of taxi pickups across borough.\n",
    "sn.countplot(x = \"pickup_borough\", data = taxis)\n",
    "plt.show()"
   ]
  },
  {
   "cell_type": "code",
   "execution_count": 20,
   "id": "b5507d64-3ad5-4d5b-be39-ead5ea569f2d",
   "metadata": {
    "id": "b5507d64-3ad5-4d5b-be39-ead5ea569f2d"
   },
   "outputs": [],
   "source": [
    "#Drop rows where there is a missing value in the \"dropoff_borough\" column.\n",
    "drop = taxis[\"dropoff_borough\"].dropna()"
   ]
  },
  {
   "cell_type": "code",
   "execution_count": 21,
   "id": "52849059-6a51-42ee-a296-c0acfa617285",
   "metadata": {
    "id": "52849059-6a51-42ee-a296-c0acfa617285"
   },
   "outputs": [
    {
     "data": {
      "text/plain": [
       "0"
      ]
     },
     "execution_count": 21,
     "metadata": {},
     "output_type": "execute_result"
    }
   ],
   "source": [
    "#Confirm that there are no missing values in the \"dropoff_borough\" column now.\n",
    "drop.isna().sum()"
   ]
  },
  {
   "cell_type": "code",
   "execution_count": 22,
   "id": "88889bf1-efac-4b24-af77-269822f5c6f3",
   "metadata": {
    "id": "88889bf1-efac-4b24-af77-269822f5c6f3"
   },
   "outputs": [
    {
     "data": {
      "text/plain": [
       "Manhattan        5206\n",
       "Queens            542\n",
       "Brooklyn          501\n",
       "Bronx             137\n",
       "Staten Island       2\n",
       "Name: dropoff_borough, dtype: int64"
      ]
     },
     "execution_count": 22,
     "metadata": {},
     "output_type": "execute_result"
    }
   ],
   "source": [
    "#How many taxi trips did dropoffs in each borough?\n",
    "drop.value_counts()"
   ]
  },
  {
   "cell_type": "code",
   "execution_count": 23,
   "id": "20ab5510-31f6-4398-9f59-3d7f60c8a001",
   "metadata": {
    "id": "20ab5510-31f6-4398-9f59-3d7f60c8a001"
   },
   "outputs": [
    {
     "data": {
      "text/plain": [
       "array(['Manhattan', 'Queens', 'Brooklyn', 'Bronx', 'Staten Island'],\n",
       "      dtype=object)"
      ]
     },
     "execution_count": 23,
     "metadata": {},
     "output_type": "execute_result"
    }
   ],
   "source": [
    "#What are the different boroughs from which taxi dropoffs occur according to the dataset?\n",
    "drop.unique()"
   ]
  },
  {
   "cell_type": "code",
   "execution_count": 24,
   "id": "b4ab290b-6bee-4f1e-a904-5be2c0625461",
   "metadata": {
    "id": "b4ab290b-6bee-4f1e-a904-5be2c0625461"
   },
   "outputs": [
    {
     "data": {
      "image/png": "[encoded data removed]",
      "text/plain": [
       "<Figure size 432x288 with 1 Axes>"
      ]
     },
     "metadata": {
      "needs_background": "light"
     },
     "output_type": "display_data"
    }
   ],
   "source": [
    "#Create a countplot to visualize the distribution of taxi dropoffs across borough\n",
    "sn.countplot(x = \"dropoff_borough\", data = taxis)\n",
    "plt.show()"
   ]
  },
  {
   "cell_type": "code",
   "execution_count": 25,
   "id": "060cad73-e727-42a2-97ea-909c18159acc",
   "metadata": {
    "id": "060cad73-e727-42a2-97ea-909c18159acc"
   },
   "outputs": [
    {
     "data": {
      "text/plain": [
       "Manhattan    5268\n",
       "Queens        657\n",
       "Brooklyn      383\n",
       "Bronx          99\n",
       "Name: pickup_borough, dtype: int64"
      ]
     },
     "execution_count": 25,
     "metadata": {},
     "output_type": "execute_result"
    }
   ],
   "source": [
    "#How many taxi trips did pickups in each borough?\n",
    "pick.value_counts()"
   ]
  },
  {
   "cell_type": "code",
   "execution_count": 26,
   "id": "19f88225-1c11-41c2-98c5-c538e128e7b2",
   "metadata": {
    "id": "19f88225-1c11-41c2-98c5-c538e128e7b2"
   },
   "outputs": [
    {
     "data": {
      "text/html": [
       "<div>\n",
       "<style scoped>\n",
       "    .dataframe tbody tr th:only-of-type {\n",
       "        vertical-align: middle;\n",
       "    }\n",
       "\n",
       "    .dataframe tbody tr th {\n",
       "        vertical-align: top;\n",
       "    }\n",
       "\n",
       "    .dataframe thead th {\n",
       "        text-align: right;\n",
       "    }\n",
       "</style>\n",
       "<table border=\"1\" class=\"dataframe\">\n",
       "  <thead>\n",
       "    <tr style=\"text-align: right;\">\n",
       "      <th></th>\n",
       "      <th>pickup</th>\n",
       "      <th>dropoff</th>\n",
       "      <th>passengers</th>\n",
       "      <th>distance</th>\n",
       "      <th>fare</th>\n",
       "      <th>tip</th>\n",
       "      <th>tolls</th>\n",
       "      <th>total</th>\n",
       "      <th>color</th>\n",
       "      <th>payment</th>\n",
       "      <th>pickup_zone</th>\n",
       "      <th>dropoff_zone</th>\n",
       "      <th>pickup_borough</th>\n",
       "      <th>dropoff_borough</th>\n",
       "    </tr>\n",
       "  </thead>\n",
       "  <tbody>\n",
       "    <tr>\n",
       "      <th>114</th>\n",
       "      <td>2019-03-05 12:17:49</td>\n",
       "      <td>2019-03-05 12:36:12</td>\n",
       "      <td>1</td>\n",
       "      <td>5.98</td>\n",
       "      <td>19.00</td>\n",
       "      <td>5.58</td>\n",
       "      <td>0.0</td>\n",
       "      <td>27.88</td>\n",
       "      <td>yellow</td>\n",
       "      <td>credit card</td>\n",
       "      <td>Brooklyn Heights</td>\n",
       "      <td>Murray Hill</td>\n",
       "      <td>Brooklyn</td>\n",
       "      <td>Manhattan</td>\n",
       "    </tr>\n",
       "    <tr>\n",
       "      <th>155</th>\n",
       "      <td>2019-03-21 22:49:32</td>\n",
       "      <td>2019-03-21 22:55:11</td>\n",
       "      <td>1</td>\n",
       "      <td>1.03</td>\n",
       "      <td>6.00</td>\n",
       "      <td>1.46</td>\n",
       "      <td>0.0</td>\n",
       "      <td>8.76</td>\n",
       "      <td>yellow</td>\n",
       "      <td>credit card</td>\n",
       "      <td>DUMBO/Vinegar Hill</td>\n",
       "      <td>Brooklyn Heights</td>\n",
       "      <td>Brooklyn</td>\n",
       "      <td>Brooklyn</td>\n",
       "    </tr>\n",
       "    <tr>\n",
       "      <th>214</th>\n",
       "      <td>2019-03-22 22:40:19</td>\n",
       "      <td>2019-03-22 22:55:26</td>\n",
       "      <td>1</td>\n",
       "      <td>2.75</td>\n",
       "      <td>12.50</td>\n",
       "      <td>0.00</td>\n",
       "      <td>0.0</td>\n",
       "      <td>13.80</td>\n",
       "      <td>yellow</td>\n",
       "      <td>cash</td>\n",
       "      <td>Stuyvesant Heights</td>\n",
       "      <td>Crown Heights North</td>\n",
       "      <td>Brooklyn</td>\n",
       "      <td>Brooklyn</td>\n",
       "    </tr>\n",
       "    <tr>\n",
       "      <th>266</th>\n",
       "      <td>2019-03-26 21:42:29</td>\n",
       "      <td>2019-03-26 22:05:23</td>\n",
       "      <td>2</td>\n",
       "      <td>4.40</td>\n",
       "      <td>17.50</td>\n",
       "      <td>3.76</td>\n",
       "      <td>0.0</td>\n",
       "      <td>22.56</td>\n",
       "      <td>yellow</td>\n",
       "      <td>credit card</td>\n",
       "      <td>Fort Greene</td>\n",
       "      <td>Cypress Hills</td>\n",
       "      <td>Brooklyn</td>\n",
       "      <td>Brooklyn</td>\n",
       "    </tr>\n",
       "    <tr>\n",
       "      <th>332</th>\n",
       "      <td>2019-03-16 01:14:24</td>\n",
       "      <td>2019-03-16 01:26:45</td>\n",
       "      <td>1</td>\n",
       "      <td>2.60</td>\n",
       "      <td>11.00</td>\n",
       "      <td>0.00</td>\n",
       "      <td>0.0</td>\n",
       "      <td>12.30</td>\n",
       "      <td>yellow</td>\n",
       "      <td>cash</td>\n",
       "      <td>Crown Heights North</td>\n",
       "      <td>Crown Heights South</td>\n",
       "      <td>Brooklyn</td>\n",
       "      <td>Brooklyn</td>\n",
       "    </tr>\n",
       "    <tr>\n",
       "      <th>...</th>\n",
       "      <td>...</td>\n",
       "      <td>...</td>\n",
       "      <td>...</td>\n",
       "      <td>...</td>\n",
       "      <td>...</td>\n",
       "      <td>...</td>\n",
       "      <td>...</td>\n",
       "      <td>...</td>\n",
       "      <td>...</td>\n",
       "      <td>...</td>\n",
       "      <td>...</td>\n",
       "      <td>...</td>\n",
       "      <td>...</td>\n",
       "      <td>...</td>\n",
       "    </tr>\n",
       "    <tr>\n",
       "      <th>6421</th>\n",
       "      <td>2019-03-24 09:07:15</td>\n",
       "      <td>2019-03-24 09:36:45</td>\n",
       "      <td>6</td>\n",
       "      <td>10.23</td>\n",
       "      <td>33.00</td>\n",
       "      <td>0.00</td>\n",
       "      <td>0.0</td>\n",
       "      <td>33.80</td>\n",
       "      <td>green</td>\n",
       "      <td>credit card</td>\n",
       "      <td>East Flatbush/Farragut</td>\n",
       "      <td>South Ozone Park</td>\n",
       "      <td>Brooklyn</td>\n",
       "      <td>Queens</td>\n",
       "    </tr>\n",
       "    <tr>\n",
       "      <th>6425</th>\n",
       "      <td>2019-03-07 15:34:30</td>\n",
       "      <td>2019-03-07 16:31:06</td>\n",
       "      <td>1</td>\n",
       "      <td>9.12</td>\n",
       "      <td>26.32</td>\n",
       "      <td>0.00</td>\n",
       "      <td>0.0</td>\n",
       "      <td>26.82</td>\n",
       "      <td>green</td>\n",
       "      <td>credit card</td>\n",
       "      <td>Park Slope</td>\n",
       "      <td>East New York</td>\n",
       "      <td>Brooklyn</td>\n",
       "      <td>Brooklyn</td>\n",
       "    </tr>\n",
       "    <tr>\n",
       "      <th>6430</th>\n",
       "      <td>2019-03-23 22:55:18</td>\n",
       "      <td>2019-03-23 23:14:25</td>\n",
       "      <td>1</td>\n",
       "      <td>4.14</td>\n",
       "      <td>16.00</td>\n",
       "      <td>0.00</td>\n",
       "      <td>0.0</td>\n",
       "      <td>17.30</td>\n",
       "      <td>green</td>\n",
       "      <td>cash</td>\n",
       "      <td>Crown Heights North</td>\n",
       "      <td>Bushwick North</td>\n",
       "      <td>Brooklyn</td>\n",
       "      <td>Brooklyn</td>\n",
       "    </tr>\n",
       "    <tr>\n",
       "      <th>6431</th>\n",
       "      <td>2019-03-04 10:09:25</td>\n",
       "      <td>2019-03-04 10:14:29</td>\n",
       "      <td>1</td>\n",
       "      <td>1.12</td>\n",
       "      <td>6.00</td>\n",
       "      <td>0.00</td>\n",
       "      <td>0.0</td>\n",
       "      <td>6.80</td>\n",
       "      <td>green</td>\n",
       "      <td>credit card</td>\n",
       "      <td>East New York</td>\n",
       "      <td>East Flatbush/Remsen Village</td>\n",
       "      <td>Brooklyn</td>\n",
       "      <td>Brooklyn</td>\n",
       "    </tr>\n",
       "    <tr>\n",
       "      <th>6432</th>\n",
       "      <td>2019-03-13 19:31:22</td>\n",
       "      <td>2019-03-13 19:48:02</td>\n",
       "      <td>1</td>\n",
       "      <td>3.85</td>\n",
       "      <td>15.00</td>\n",
       "      <td>3.36</td>\n",
       "      <td>0.0</td>\n",
       "      <td>20.16</td>\n",
       "      <td>green</td>\n",
       "      <td>credit card</td>\n",
       "      <td>Boerum Hill</td>\n",
       "      <td>Windsor Terrace</td>\n",
       "      <td>Brooklyn</td>\n",
       "      <td>Brooklyn</td>\n",
       "    </tr>\n",
       "  </tbody>\n",
       "</table>\n",
       "<p>383 rows × 14 columns</p>\n",
       "</div>"
      ],
      "text/plain": [
       "                   pickup              dropoff  passengers  distance   fare  \\\n",
       "114   2019-03-05 12:17:49  2019-03-05 12:36:12           1      5.98  19.00   \n",
       "155   2019-03-21 22:49:32  2019-03-21 22:55:11           1      1.03   6.00   \n",
       "214   2019-03-22 22:40:19  2019-03-22 22:55:26           1      2.75  12.50   \n",
       "266   2019-03-26 21:42:29  2019-03-26 22:05:23           2      4.40  17.50   \n",
       "332   2019-03-16 01:14:24  2019-03-16 01:26:45           1      2.60  11.00   \n",
       "...                   ...                  ...         ...       ...    ...   \n",
       "6421  2019-03-24 09:07:15  2019-03-24 09:36:45           6     10.23  33.00   \n",
       "6425  2019-03-07 15:34:30  2019-03-07 16:31:06           1      9.12  26.32   \n",
       "6430  2019-03-23 22:55:18  2019-03-23 23:14:25           1      4.14  16.00   \n",
       "6431  2019-03-04 10:09:25  2019-03-04 10:14:29           1      1.12   6.00   \n",
       "6432  2019-03-13 19:31:22  2019-03-13 19:48:02           1      3.85  15.00   \n",
       "\n",
       "       tip  tolls  total   color      payment             pickup_zone  \\\n",
       "114   5.58    0.0  27.88  yellow  credit card        Brooklyn Heights   \n",
       "155   1.46    0.0   8.76  yellow  credit card      DUMBO/Vinegar Hill   \n",
       "214   0.00    0.0  13.80  yellow         cash      Stuyvesant Heights   \n",
       "266   3.76    0.0  22.56  yellow  credit card             Fort Greene   \n",
       "332   0.00    0.0  12.30  yellow         cash     Crown Heights North   \n",
       "...    ...    ...    ...     ...          ...                     ...   \n",
       "6421  0.00    0.0  33.80   green  credit card  East Flatbush/Farragut   \n",
       "6425  0.00    0.0  26.82   green  credit card              Park Slope   \n",
       "6430  0.00    0.0  17.30   green         cash     Crown Heights North   \n",
       "6431  0.00    0.0   6.80   green  credit card           East New York   \n",
       "6432  3.36    0.0  20.16   green  credit card             Boerum Hill   \n",
       "\n",
       "                      dropoff_zone pickup_borough dropoff_borough  \n",
       "114                    Murray Hill       Brooklyn       Manhattan  \n",
       "155               Brooklyn Heights       Brooklyn        Brooklyn  \n",
       "214            Crown Heights North       Brooklyn        Brooklyn  \n",
       "266                  Cypress Hills       Brooklyn        Brooklyn  \n",
       "332            Crown Heights South       Brooklyn        Brooklyn  \n",
       "...                            ...            ...             ...  \n",
       "6421              South Ozone Park       Brooklyn          Queens  \n",
       "6425                 East New York       Brooklyn        Brooklyn  \n",
       "6430                Bushwick North       Brooklyn        Brooklyn  \n",
       "6431  East Flatbush/Remsen Village       Brooklyn        Brooklyn  \n",
       "6432               Windsor Terrace       Brooklyn        Brooklyn  \n",
       "\n",
       "[383 rows x 14 columns]"
      ]
     },
     "execution_count": 26,
     "metadata": {},
     "output_type": "execute_result"
    }
   ],
   "source": [
    "#Create a subset that only includes taxi trips that picked up passengers in the Brooklyn borough.\n",
    "brooklyn_pickup = taxis.loc[taxis[\"pickup_borough\"] == \"Brooklyn\", :]\n",
    "brooklyn_pickup"
   ]
  },
  {
   "cell_type": "markdown",
   "id": "59fc2347-e4b6-4d2e-b2d9-b746738767a9",
   "metadata": {
    "id": "59fc2347-e4b6-4d2e-b2d9-b746738767a9"
   },
   "source": [
    "Take a look at the subset."
   ]
  },
  {
   "cell_type": "code",
   "execution_count": 27,
   "id": "530ec249-b16a-48b0-bdda-95d167495e3e",
   "metadata": {
    "id": "530ec249-b16a-48b0-bdda-95d167495e3e"
   },
   "outputs": [
    {
     "data": {
      "text/plain": [
       "383"
      ]
     },
     "execution_count": 27,
     "metadata": {},
     "output_type": "execute_result"
    }
   ],
   "source": [
    "#How many rows in the subset?\n",
    "brooklyn_pickup.shape[0]"
   ]
  },
  {
   "cell_type": "code",
   "execution_count": 28,
   "id": "ab1e1ef2-c682-4f8b-a8b4-bd539b31d254",
   "metadata": {
    "id": "ab1e1ef2-c682-4f8b-a8b4-bd539b31d254"
   },
   "outputs": [
    {
     "data": {
      "text/plain": [
       "14"
      ]
     },
     "execution_count": 28,
     "metadata": {},
     "output_type": "execute_result"
    }
   ],
   "source": [
    "#How many columns in the subset?\n",
    "brooklyn_pickup.shape[1]"
   ]
  },
  {
   "cell_type": "code",
   "execution_count": 29,
   "id": "4f20593d-cbf3-4977-afea-e35c606af4f1",
   "metadata": {
    "id": "4f20593d-cbf3-4977-afea-e35c606af4f1"
   },
   "outputs": [
    {
     "data": {
      "text/plain": [
       "Fort Greene                     39\n",
       "Downtown Brooklyn/MetroTech     37\n",
       "Brooklyn Heights                34\n",
       "Park Slope                      22\n",
       "Boerum Hill                     21\n",
       "Williamsburg (North Side)       15\n",
       "DUMBO/Vinegar Hill              15\n",
       "Crown Heights North             12\n",
       "Cobble Hill                     11\n",
       "Williamsburg (South Side)       11\n",
       "East New York                   10\n",
       "Greenpoint                       9\n",
       "Stuyvesant Heights               9\n",
       "Bushwick South                   9\n",
       "Sheepshead Bay                   8\n",
       "Carroll Gardens                  7\n",
       "Clinton Hill                     7\n",
       "East Flatbush/Farragut           7\n",
       "Coney Island                     6\n",
       "Midwood                          6\n",
       "Starrett City                    6\n",
       "East Flatbush/Remsen Village     6\n",
       "East Williamsburg                5\n",
       "Bushwick North                   5\n",
       "Flatbush/Ditmas Park             4\n",
       "Brownsville                      4\n",
       "Prospect Heights                 4\n",
       "Crown Heights South              4\n",
       "Prospect-Lefferts Gardens        4\n",
       "Gravesend                        4\n",
       "Erasmus                          4\n",
       "Flatlands                        4\n",
       "Marine Park/Mill Basin           3\n",
       "Bedford                          3\n",
       "Windsor Terrace                  3\n",
       "Bay Ridge                        3\n",
       "Canarsie                         3\n",
       "Sunset Park West                 3\n",
       "Prospect Park                    2\n",
       "Madison                          2\n",
       "Gowanus                          2\n",
       "Borough Park                     2\n",
       "South Williamsburg               2\n",
       "Bensonhurst East                 1\n",
       "Dyker Heights                    1\n",
       "Homecrest                        1\n",
       "Bensonhurst West                 1\n",
       "Columbia Street                  1\n",
       "Brighton Beach                   1\n",
       "Name: pickup_zone, dtype: int64"
      ]
     },
     "execution_count": 29,
     "metadata": {},
     "output_type": "execute_result"
    }
   ],
   "source": [
    "# What are the pickup zones in the pickup borough Brooklyn in order of most taxi trips to \n",
    "# least taxi trips, along with the corresponding counts?\n",
    "brooklyn_pickup_counts = brooklyn_pickup[\"pickup_zone\"].value_counts()\n",
    "brooklyn_pickup_counts"
   ]
  },
  {
   "cell_type": "code",
   "execution_count": 48,
   "id": "82f90a84-23b4-498b-ab4b-e8ca8bdedb03",
   "metadata": {
    "id": "82f90a84-23b4-498b-ab4b-e8ca8bdedb03"
   },
   "outputs": [
    {
     "data": {
      "text/plain": [
       "Fort Greene                    39\n",
       "Downtown Brooklyn/MetroTech    37\n",
       "Brooklyn Heights               34\n",
       "Park Slope                     22\n",
       "Boerum Hill                    21\n",
       "Name: pickup_zone, dtype: int64"
      ]
     },
     "execution_count": 48,
     "metadata": {},
     "output_type": "execute_result"
    }
   ],
   "source": [
    "#What are the pickup zones with the 5 highest counts? \n",
    "zones = brooklyn_pickup_counts.iloc[0:5]\n",
    "zones"
   ]
  },
  {
   "cell_type": "code",
   "execution_count": 50,
   "id": "513833c2-f4ef-4c3a-8865-aef4aeb172ea",
   "metadata": {
    "id": "513833c2-f4ef-4c3a-8865-aef4aeb172ea"
   },
   "outputs": [
    {
     "data": {
      "text/html": [
       "<div>\n",
       "<style scoped>\n",
       "    .dataframe tbody tr th:only-of-type {\n",
       "        vertical-align: middle;\n",
       "    }\n",
       "\n",
       "    .dataframe tbody tr th {\n",
       "        vertical-align: top;\n",
       "    }\n",
       "\n",
       "    .dataframe thead th {\n",
       "        text-align: right;\n",
       "    }\n",
       "</style>\n",
       "<table border=\"1\" class=\"dataframe\">\n",
       "  <thead>\n",
       "    <tr style=\"text-align: right;\">\n",
       "      <th></th>\n",
       "      <th>pickup</th>\n",
       "      <th>dropoff</th>\n",
       "      <th>passengers</th>\n",
       "      <th>distance</th>\n",
       "      <th>fare</th>\n",
       "      <th>tip</th>\n",
       "      <th>tolls</th>\n",
       "      <th>total</th>\n",
       "      <th>color</th>\n",
       "      <th>payment</th>\n",
       "      <th>pickup_zone</th>\n",
       "      <th>dropoff_zone</th>\n",
       "      <th>pickup_borough</th>\n",
       "      <th>dropoff_borough</th>\n",
       "    </tr>\n",
       "  </thead>\n",
       "  <tbody>\n",
       "    <tr>\n",
       "      <th>114</th>\n",
       "      <td>2019-03-05 12:17:49</td>\n",
       "      <td>2019-03-05 12:36:12</td>\n",
       "      <td>1</td>\n",
       "      <td>5.98</td>\n",
       "      <td>19.00</td>\n",
       "      <td>5.58</td>\n",
       "      <td>0.00</td>\n",
       "      <td>27.88</td>\n",
       "      <td>yellow</td>\n",
       "      <td>credit card</td>\n",
       "      <td>Brooklyn Heights</td>\n",
       "      <td>Murray Hill</td>\n",
       "      <td>Brooklyn</td>\n",
       "      <td>Manhattan</td>\n",
       "    </tr>\n",
       "    <tr>\n",
       "      <th>266</th>\n",
       "      <td>2019-03-26 21:42:29</td>\n",
       "      <td>2019-03-26 22:05:23</td>\n",
       "      <td>2</td>\n",
       "      <td>4.40</td>\n",
       "      <td>17.50</td>\n",
       "      <td>3.76</td>\n",
       "      <td>0.00</td>\n",
       "      <td>22.56</td>\n",
       "      <td>yellow</td>\n",
       "      <td>credit card</td>\n",
       "      <td>Fort Greene</td>\n",
       "      <td>Cypress Hills</td>\n",
       "      <td>Brooklyn</td>\n",
       "      <td>Brooklyn</td>\n",
       "    </tr>\n",
       "    <tr>\n",
       "      <th>445</th>\n",
       "      <td>2019-03-19 06:57:14</td>\n",
       "      <td>2019-03-19 07:00:08</td>\n",
       "      <td>1</td>\n",
       "      <td>1.30</td>\n",
       "      <td>5.50</td>\n",
       "      <td>0.00</td>\n",
       "      <td>0.00</td>\n",
       "      <td>6.30</td>\n",
       "      <td>yellow</td>\n",
       "      <td>NaN</td>\n",
       "      <td>Boerum Hill</td>\n",
       "      <td>Columbia Street</td>\n",
       "      <td>Brooklyn</td>\n",
       "      <td>Brooklyn</td>\n",
       "    </tr>\n",
       "    <tr>\n",
       "      <th>694</th>\n",
       "      <td>2019-03-13 11:12:11</td>\n",
       "      <td>2019-03-13 11:47:17</td>\n",
       "      <td>1</td>\n",
       "      <td>7.00</td>\n",
       "      <td>28.50</td>\n",
       "      <td>6.35</td>\n",
       "      <td>0.00</td>\n",
       "      <td>38.15</td>\n",
       "      <td>yellow</td>\n",
       "      <td>credit card</td>\n",
       "      <td>Brooklyn Heights</td>\n",
       "      <td>Midtown East</td>\n",
       "      <td>Brooklyn</td>\n",
       "      <td>Manhattan</td>\n",
       "    </tr>\n",
       "    <tr>\n",
       "      <th>1218</th>\n",
       "      <td>2019-03-08 09:46:36</td>\n",
       "      <td>2019-03-08 10:25:44</td>\n",
       "      <td>1</td>\n",
       "      <td>17.09</td>\n",
       "      <td>49.50</td>\n",
       "      <td>0.00</td>\n",
       "      <td>5.76</td>\n",
       "      <td>56.06</td>\n",
       "      <td>yellow</td>\n",
       "      <td>credit card</td>\n",
       "      <td>Boerum Hill</td>\n",
       "      <td>Soundview/Castle Hill</td>\n",
       "      <td>Brooklyn</td>\n",
       "      <td>Bronx</td>\n",
       "    </tr>\n",
       "    <tr>\n",
       "      <th>...</th>\n",
       "      <td>...</td>\n",
       "      <td>...</td>\n",
       "      <td>...</td>\n",
       "      <td>...</td>\n",
       "      <td>...</td>\n",
       "      <td>...</td>\n",
       "      <td>...</td>\n",
       "      <td>...</td>\n",
       "      <td>...</td>\n",
       "      <td>...</td>\n",
       "      <td>...</td>\n",
       "      <td>...</td>\n",
       "      <td>...</td>\n",
       "      <td>...</td>\n",
       "    </tr>\n",
       "    <tr>\n",
       "      <th>6405</th>\n",
       "      <td>2019-03-21 18:28:55</td>\n",
       "      <td>2019-03-21 18:51:08</td>\n",
       "      <td>2</td>\n",
       "      <td>3.88</td>\n",
       "      <td>16.50</td>\n",
       "      <td>0.00</td>\n",
       "      <td>0.00</td>\n",
       "      <td>18.30</td>\n",
       "      <td>green</td>\n",
       "      <td>cash</td>\n",
       "      <td>Boerum Hill</td>\n",
       "      <td>Ocean Hill</td>\n",
       "      <td>Brooklyn</td>\n",
       "      <td>Brooklyn</td>\n",
       "    </tr>\n",
       "    <tr>\n",
       "      <th>6411</th>\n",
       "      <td>2019-03-25 18:28:05</td>\n",
       "      <td>2019-03-25 18:33:30</td>\n",
       "      <td>1</td>\n",
       "      <td>1.10</td>\n",
       "      <td>6.00</td>\n",
       "      <td>1.00</td>\n",
       "      <td>0.00</td>\n",
       "      <td>8.80</td>\n",
       "      <td>green</td>\n",
       "      <td>credit card</td>\n",
       "      <td>Brooklyn Heights</td>\n",
       "      <td>Columbia Street</td>\n",
       "      <td>Brooklyn</td>\n",
       "      <td>Brooklyn</td>\n",
       "    </tr>\n",
       "    <tr>\n",
       "      <th>6412</th>\n",
       "      <td>2019-03-20 17:33:25</td>\n",
       "      <td>2019-03-20 17:42:48</td>\n",
       "      <td>5</td>\n",
       "      <td>1.40</td>\n",
       "      <td>8.00</td>\n",
       "      <td>0.00</td>\n",
       "      <td>0.00</td>\n",
       "      <td>9.80</td>\n",
       "      <td>green</td>\n",
       "      <td>cash</td>\n",
       "      <td>Brooklyn Heights</td>\n",
       "      <td>Fort Greene</td>\n",
       "      <td>Brooklyn</td>\n",
       "      <td>Brooklyn</td>\n",
       "    </tr>\n",
       "    <tr>\n",
       "      <th>6425</th>\n",
       "      <td>2019-03-07 15:34:30</td>\n",
       "      <td>2019-03-07 16:31:06</td>\n",
       "      <td>1</td>\n",
       "      <td>9.12</td>\n",
       "      <td>26.32</td>\n",
       "      <td>0.00</td>\n",
       "      <td>0.00</td>\n",
       "      <td>26.82</td>\n",
       "      <td>green</td>\n",
       "      <td>credit card</td>\n",
       "      <td>Park Slope</td>\n",
       "      <td>East New York</td>\n",
       "      <td>Brooklyn</td>\n",
       "      <td>Brooklyn</td>\n",
       "    </tr>\n",
       "    <tr>\n",
       "      <th>6432</th>\n",
       "      <td>2019-03-13 19:31:22</td>\n",
       "      <td>2019-03-13 19:48:02</td>\n",
       "      <td>1</td>\n",
       "      <td>3.85</td>\n",
       "      <td>15.00</td>\n",
       "      <td>3.36</td>\n",
       "      <td>0.00</td>\n",
       "      <td>20.16</td>\n",
       "      <td>green</td>\n",
       "      <td>credit card</td>\n",
       "      <td>Boerum Hill</td>\n",
       "      <td>Windsor Terrace</td>\n",
       "      <td>Brooklyn</td>\n",
       "      <td>Brooklyn</td>\n",
       "    </tr>\n",
       "  </tbody>\n",
       "</table>\n",
       "<p>153 rows × 14 columns</p>\n",
       "</div>"
      ],
      "text/plain": [
       "                   pickup              dropoff  passengers  distance   fare  \\\n",
       "114   2019-03-05 12:17:49  2019-03-05 12:36:12           1      5.98  19.00   \n",
       "266   2019-03-26 21:42:29  2019-03-26 22:05:23           2      4.40  17.50   \n",
       "445   2019-03-19 06:57:14  2019-03-19 07:00:08           1      1.30   5.50   \n",
       "694   2019-03-13 11:12:11  2019-03-13 11:47:17           1      7.00  28.50   \n",
       "1218  2019-03-08 09:46:36  2019-03-08 10:25:44           1     17.09  49.50   \n",
       "...                   ...                  ...         ...       ...    ...   \n",
       "6405  2019-03-21 18:28:55  2019-03-21 18:51:08           2      3.88  16.50   \n",
       "6411  2019-03-25 18:28:05  2019-03-25 18:33:30           1      1.10   6.00   \n",
       "6412  2019-03-20 17:33:25  2019-03-20 17:42:48           5      1.40   8.00   \n",
       "6425  2019-03-07 15:34:30  2019-03-07 16:31:06           1      9.12  26.32   \n",
       "6432  2019-03-13 19:31:22  2019-03-13 19:48:02           1      3.85  15.00   \n",
       "\n",
       "       tip  tolls  total   color      payment       pickup_zone  \\\n",
       "114   5.58   0.00  27.88  yellow  credit card  Brooklyn Heights   \n",
       "266   3.76   0.00  22.56  yellow  credit card       Fort Greene   \n",
       "445   0.00   0.00   6.30  yellow          NaN       Boerum Hill   \n",
       "694   6.35   0.00  38.15  yellow  credit card  Brooklyn Heights   \n",
       "1218  0.00   5.76  56.06  yellow  credit card       Boerum Hill   \n",
       "...    ...    ...    ...     ...          ...               ...   \n",
       "6405  0.00   0.00  18.30   green         cash       Boerum Hill   \n",
       "6411  1.00   0.00   8.80   green  credit card  Brooklyn Heights   \n",
       "6412  0.00   0.00   9.80   green         cash  Brooklyn Heights   \n",
       "6425  0.00   0.00  26.82   green  credit card        Park Slope   \n",
       "6432  3.36   0.00  20.16   green  credit card       Boerum Hill   \n",
       "\n",
       "               dropoff_zone pickup_borough dropoff_borough  \n",
       "114             Murray Hill       Brooklyn       Manhattan  \n",
       "266           Cypress Hills       Brooklyn        Brooklyn  \n",
       "445         Columbia Street       Brooklyn        Brooklyn  \n",
       "694            Midtown East       Brooklyn       Manhattan  \n",
       "1218  Soundview/Castle Hill       Brooklyn           Bronx  \n",
       "...                     ...            ...             ...  \n",
       "6405             Ocean Hill       Brooklyn        Brooklyn  \n",
       "6411        Columbia Street       Brooklyn        Brooklyn  \n",
       "6412            Fort Greene       Brooklyn        Brooklyn  \n",
       "6425          East New York       Brooklyn        Brooklyn  \n",
       "6432        Windsor Terrace       Brooklyn        Brooklyn  \n",
       "\n",
       "[153 rows x 14 columns]"
      ]
     },
     "execution_count": 50,
     "metadata": {},
     "output_type": "execute_result"
    }
   ],
   "source": [
    "#Create a subset for taxi trips involving pickup in any of the 5 zones identified above.\n",
    "brooklyn_pickup_5 = brooklyn_pickup.loc[brooklyn_pickup[\"pickup_zone\"].apply(lambda zone: zone in zones), :]\n",
    "brooklyn_pickup_5"
   ]
  },
  {
   "cell_type": "code",
   "execution_count": 51,
   "id": "2044422f-e466-4df8-b9d7-ccb709641ae2",
   "metadata": {
    "id": "2044422f-e466-4df8-b9d7-ccb709641ae2"
   },
   "outputs": [
    {
     "data": {
      "text/plain": [
       "153"
      ]
     },
     "execution_count": 51,
     "metadata": {},
     "output_type": "execute_result"
    }
   ],
   "source": [
    "#How many rows in this subset?\n",
    "brooklyn_pickup_5.shape[0]"
   ]
  },
  {
   "cell_type": "code",
   "execution_count": 53,
   "id": "897b8fa2-395e-4a30-8160-57a8189a8394",
   "metadata": {
    "id": "897b8fa2-395e-4a30-8160-57a8189a8394"
   },
   "outputs": [
    {
     "data": {
      "text/plain": [
       "14"
      ]
     },
     "execution_count": 53,
     "metadata": {},
     "output_type": "execute_result"
    }
   ],
   "source": [
    "#How many columns in this subset?\n",
    "brooklyn_pickup_5.shape[1]"
   ]
  },
  {
   "cell_type": "code",
   "execution_count": 54,
   "id": "889a8d65-244c-490f-a6ca-0a97a4b6c477",
   "metadata": {
    "id": "889a8d65-244c-490f-a6ca-0a97a4b6c477"
   },
   "outputs": [
    {
     "data": {
      "image/png": "[encoded data removed]",
      "text/plain": [
       "<Figure size 432x288 with 1 Axes>"
      ]
     },
     "metadata": {
      "needs_background": "light"
     },
     "output_type": "display_data"
    }
   ],
   "source": [
    "#Create a countplot to visualize the distribution of taxi trips across the \"top 5\" pickup zones in pickup borough Brooklyn.\n",
    "sn.countplot(x = \"pickup_zone\", data = brooklyn_pickup_5)\n",
    "plt.xticks(rotation=45, horizontalalignment='right')\n",
    "plt.show()"
   ]
  },
  {
   "cell_type": "markdown",
   "id": "d02f7314-5582-42b7-b970-384ed2d7e78a",
   "metadata": {
    "id": "d02f7314-5582-42b7-b970-384ed2d7e78a"
   },
   "source": [
    "What is one thing you notice from the barplot above?  "
   ]
  },
  {
   "cell_type": "markdown",
   "id": "c3b86ab9-b2e4-4579-abd2-88f50f4880a7",
   "metadata": {
    "id": "c3b86ab9-b2e4-4579-abd2-88f50f4880a7"
   },
   "source": [
    "Fort Green is the pickup zone with the most number of taxi trips in Brooklyn."
   ]
  },
  {
   "cell_type": "code",
   "execution_count": 60,
   "id": "fa468c2a-5f16-474f-95e7-4a76e9ec5466",
   "metadata": {
    "id": "fa468c2a-5f16-474f-95e7-4a76e9ec5466"
   },
   "outputs": [
    {
     "data": {
      "image/png": "[encoded data removed]",
      "text/plain": [
       "<Figure size 432x288 with 1 Axes>"
      ]
     },
     "metadata": {
      "needs_background": "light"
     },
     "output_type": "display_data"
    }
   ],
   "source": [
    "#Create a barplot to visualize the total cost on average across each of the \"top 5\" pickup zones in pickup borough Brooklyn\n",
    "sn.barplot(x = \"pickup_zone\", y=\"total\", data = brooklyn_pickup_5, ci=False)\n",
    "plt.xticks(rotation=45, horizontalalignment='right')\n",
    "plt.show()"
   ]
  },
  {
   "cell_type": "markdown",
   "id": "c3dfca33-95c3-4510-8ddf-c4e425c2a539",
   "metadata": {
    "id": "c3dfca33-95c3-4510-8ddf-c4e425c2a539"
   },
   "source": [
    "What is one thing you notice from the barplot above?  \n",
    "Downtown Brooklyn/MetroTech is the pickup zone with the highest average total cost for taxi trips in Brooklyn.\n"
   ]
  }
 ],
 "metadata": {
  "colab": {
   "collapsed_sections": [],
   "name": "Week4_Practice_With_Data_Qs.ipynb",
   "provenance": []
  },
  "kernelspec": {
   "display_name": "Python 3 (ipykernel)",
   "language": "python",
   "name": "python3"
  },
  "language_info": {
   "codemirror_mode": {
    "name": "ipython",
    "version": 3
   },
   "file_extension": ".py",
   "mimetype": "text/x-python",
   "name": "python",
   "nbconvert_exporter": "python",
   "pygments_lexer": "ipython3",
   "version": "3.9.12"
  }
 },
 "nbformat": 4,
 "nbformat_minor": 5
}
