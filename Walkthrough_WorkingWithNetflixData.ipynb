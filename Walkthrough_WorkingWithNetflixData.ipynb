{
 "cells": [
  {
   "cell_type": "markdown",
   "metadata": {},
   "source": [
    "Import the pandas library"
   ]
  },
  {
   "cell_type": "code",
   "execution_count": 1,
   "metadata": {
    "executionInfo": {
     "elapsed": 285,
     "status": "ok",
     "timestamp": 1648060818370,
     "user": {
      "displayName": "Afro Fem Coders",
      "photoUrl": "https://lh3.googleusercontent.com/a/default-user=s64",
      "userId": "10632142881452902675"
     },
     "user_tz": 420
    },
    "id": "-uGWTyqxPeoK"
   },
   "outputs": [],
   "source": [
    "import pandas as pd\n"
   ]
  },
  {
   "cell_type": "markdown",
   "metadata": {
    "id": "tHAHYxiI-ZHo"
   },
   "source": [
    "[How to see and download Netflix viewing history](https://help.netflix.com/en/node/101917)"
   ]
  },
  {
   "cell_type": "markdown",
   "metadata": {},
   "source": [
    "Load NetflixViewingHistory.csv into a pandas dataframe"
   ]
  },
  {
   "cell_type": "code",
   "execution_count": 2,
   "metadata": {
    "executionInfo": {
     "elapsed": 844,
     "status": "ok",
     "timestamp": 1648060819211,
     "user": {
      "displayName": "Afro Fem Coders",
      "photoUrl": "https://lh3.googleusercontent.com/a/default-user=s64",
      "userId": "10632142881452902675"
     },
     "user_tz": 420
    },
    "id": "b8HfSY86PC1h"
   },
   "outputs": [],
   "source": [
    "netflix_data = pd.read_csv(\"NetflixViewingHistory.csv\")\n"
   ]
  },
  {
   "cell_type": "markdown",
   "metadata": {},
   "source": [
    "Take a look at the dataframe"
   ]
  },
  {
   "cell_type": "code",
   "execution_count": 3,
   "metadata": {
    "colab": {
     "base_uri": "https://localhost:8080/",
     "height": 424
    },
    "executionInfo": {
     "elapsed": 27,
     "status": "ok",
     "timestamp": 1648060819217,
     "user": {
      "displayName": "Afro Fem Coders",
      "photoUrl": "https://lh3.googleusercontent.com/a/default-user=s64",
      "userId": "10632142881452902675"
     },
     "user_tz": 420
    },
    "id": "MhoQIvrnPdgH",
    "outputId": "ee86aa59-4556-44c7-9f20-d7c16d880bf6"
   },
   "outputs": [
    {
     "data": {
      "text/html": [
       "<div>\n",
       "<style scoped>\n",
       "    .dataframe tbody tr th:only-of-type {\n",
       "        vertical-align: middle;\n",
       "    }\n",
       "\n",
       "    .dataframe tbody tr th {\n",
       "        vertical-align: top;\n",
       "    }\n",
       "\n",
       "    .dataframe thead th {\n",
       "        text-align: right;\n",
       "    }\n",
       "</style>\n",
       "<table border=\"1\" class=\"dataframe\">\n",
       "  <thead>\n",
       "    <tr style=\"text-align: right;\">\n",
       "      <th></th>\n",
       "      <th>Title</th>\n",
       "      <th>Date</th>\n",
       "    </tr>\n",
       "  </thead>\n",
       "  <tbody>\n",
       "    <tr>\n",
       "      <th>0</th>\n",
       "      <td>Russian Doll: Season 2: Station to Station</td>\n",
       "      <td>5/4/22</td>\n",
       "    </tr>\n",
       "    <tr>\n",
       "      <th>1</th>\n",
       "      <td>Russian Doll: Season 2: Brain Drain</td>\n",
       "      <td>5/3/22</td>\n",
       "    </tr>\n",
       "    <tr>\n",
       "      <th>2</th>\n",
       "      <td>Russian Doll: Season 2: Coney Island Baby</td>\n",
       "      <td>4/26/22</td>\n",
       "    </tr>\n",
       "    <tr>\n",
       "      <th>3</th>\n",
       "      <td>Russian Doll: Season 2: Nowhen</td>\n",
       "      <td>4/26/22</td>\n",
       "    </tr>\n",
       "    <tr>\n",
       "      <th>4</th>\n",
       "      <td>Eternally Confused and Eager for Love: Season ...</td>\n",
       "      <td>4/10/22</td>\n",
       "    </tr>\n",
       "    <tr>\n",
       "      <th>...</th>\n",
       "      <td>...</td>\n",
       "      <td>...</td>\n",
       "    </tr>\n",
       "    <tr>\n",
       "      <th>1967</th>\n",
       "      <td>The OA: Part I: Chapter 4: Away</td>\n",
       "      <td>12/22/16</td>\n",
       "    </tr>\n",
       "    <tr>\n",
       "      <th>1968</th>\n",
       "      <td>The OA: Part I: Chapter 3: Champion</td>\n",
       "      <td>12/22/16</td>\n",
       "    </tr>\n",
       "    <tr>\n",
       "      <th>1969</th>\n",
       "      <td>The OA: Part I: Chapter 2: New Colossus</td>\n",
       "      <td>12/22/16</td>\n",
       "    </tr>\n",
       "    <tr>\n",
       "      <th>1970</th>\n",
       "      <td>The OA: Part I: Chapter 1: Homecoming</td>\n",
       "      <td>12/22/16</td>\n",
       "    </tr>\n",
       "    <tr>\n",
       "      <th>1971</th>\n",
       "      <td>The Imitation Game</td>\n",
       "      <td>12/21/16</td>\n",
       "    </tr>\n",
       "  </tbody>\n",
       "</table>\n",
       "<p>1972 rows × 2 columns</p>\n",
       "</div>"
      ],
      "text/plain": [
       "                                                  Title      Date\n",
       "0            Russian Doll: Season 2: Station to Station    5/4/22\n",
       "1                   Russian Doll: Season 2: Brain Drain    5/3/22\n",
       "2             Russian Doll: Season 2: Coney Island Baby   4/26/22\n",
       "3                        Russian Doll: Season 2: Nowhen   4/26/22\n",
       "4     Eternally Confused and Eager for Love: Season ...   4/10/22\n",
       "...                                                 ...       ...\n",
       "1967                    The OA: Part I: Chapter 4: Away  12/22/16\n",
       "1968                The OA: Part I: Chapter 3: Champion  12/22/16\n",
       "1969            The OA: Part I: Chapter 2: New Colossus  12/22/16\n",
       "1970              The OA: Part I: Chapter 1: Homecoming  12/22/16\n",
       "1971                                 The Imitation Game  12/21/16\n",
       "\n",
       "[1972 rows x 2 columns]"
      ]
     },
     "execution_count": 3,
     "metadata": {},
     "output_type": "execute_result"
    }
   ],
   "source": [
    "netflix_data\n"
   ]
  },
  {
   "cell_type": "markdown",
   "metadata": {
    "id": "YS-VIKRul_YV"
   },
   "source": [
    "How many entries?"
   ]
  },
  {
   "cell_type": "code",
   "execution_count": null,
   "metadata": {
    "colab": {
     "base_uri": "https://localhost:8080/"
    },
    "executionInfo": {
     "elapsed": 24,
     "status": "ok",
     "timestamp": 1648060819218,
     "user": {
      "displayName": "Afro Fem Coders",
      "photoUrl": "https://lh3.googleusercontent.com/a/default-user=s64",
      "userId": "10632142881452902675"
     },
     "user_tz": 420
    },
    "id": "Xb5zbzUuQrVh",
    "outputId": "a41fb329-2a17-41e9-e381-907990a9622b"
   },
   "outputs": [],
   "source": [
    "len(netflix_data)"
   ]
  },
  {
   "cell_type": "code",
   "execution_count": null,
   "metadata": {},
   "outputs": [],
   "source": [
    "netflix_data.shape[0]"
   ]
  },
  {
   "cell_type": "markdown",
   "metadata": {
    "id": "V5PTOic4mGlx"
   },
   "source": [
    "How many times did I watch an episode of the show *Grey's Anatomy*?"
   ]
  },
  {
   "cell_type": "code",
   "execution_count": null,
   "metadata": {
    "colab": {
     "base_uri": "https://localhost:8080/"
    },
    "executionInfo": {
     "elapsed": 22,
     "status": "ok",
     "timestamp": 1648060819220,
     "user": {
      "displayName": "Afro Fem Coders",
      "photoUrl": "https://lh3.googleusercontent.com/a/default-user=s64",
      "userId": "10632142881452902675"
     },
     "user_tz": 420
    },
    "id": "1RwCGXNwm75e",
    "outputId": "d317276c-d89e-4c20-deb8-afe537811f0f",
    "scrolled": true
   },
   "outputs": [],
   "source": [
    "# Step 1: Get just the titles \n",
    "netflix_data[\"Title\"]"
   ]
  },
  {
   "cell_type": "markdown",
   "metadata": {
    "id": "pXR0F0xAXBUy"
   },
   "source": [
    "[Reference for using .apply()](https://pandas.pydata.org/docs/reference/api/pandas.Series.apply.html)"
   ]
  },
  {
   "cell_type": "code",
   "execution_count": null,
   "metadata": {
    "colab": {
     "base_uri": "https://localhost:8080/"
    },
    "executionInfo": {
     "elapsed": 21,
     "status": "ok",
     "timestamp": 1648060819221,
     "user": {
      "displayName": "Afro Fem Coders",
      "photoUrl": "https://lh3.googleusercontent.com/a/default-user=s64",
      "userId": "10632142881452902675"
     },
     "user_tz": 420
    },
    "id": "BBdGBwl8SnLp",
    "outputId": "60083fbd-f10e-46b2-ca17-98ac06774a74"
   },
   "outputs": [],
   "source": [
    "# Step 2: Use .apply() to determine whether each title contains \"Grey's Anatomy\"\n",
    "netflix_data[\"Title\"].apply(lambda title: \"Grey's Anatomy\" in title)\n"
   ]
  },
  {
   "cell_type": "code",
   "execution_count": null,
   "metadata": {
    "colab": {
     "base_uri": "https://localhost:8080/"
    },
    "executionInfo": {
     "elapsed": 19,
     "status": "ok",
     "timestamp": 1648060819221,
     "user": {
      "displayName": "Afro Fem Coders",
      "photoUrl": "https://lh3.googleusercontent.com/a/default-user=s64",
      "userId": "10632142881452902675"
     },
     "user_tz": 420
    },
    "id": "4QWpxf0Nn1Vt",
    "outputId": "54e3da8c-01db-45d8-e879-a6d7360e2f45"
   },
   "outputs": [],
   "source": [
    "# Step 3: Sum up how many titles have the keyword\n",
    "netflix_data[\"Title\"].apply(lambda title: \"Grey's Anatomy\" in title).sum()\n",
    "\n"
   ]
  },
  {
   "cell_type": "markdown",
   "metadata": {
    "id": "LCoeLuDKoCQ0"
   },
   "source": [
    "Which episodes of *Grey's Anatomy* did I watch?"
   ]
  },
  {
   "cell_type": "markdown",
   "metadata": {},
   "source": [
    "[Reference for using .loc[]](https://pandas.pydata.org/docs/reference/api/pandas.DataFrame.loc.html)"
   ]
  },
  {
   "cell_type": "code",
   "execution_count": null,
   "metadata": {
    "colab": {
     "base_uri": "https://localhost:8080/",
     "height": 424
    },
    "executionInfo": {
     "elapsed": 18,
     "status": "ok",
     "timestamp": 1648060819224,
     "user": {
      "displayName": "Afro Fem Coders",
      "photoUrl": "https://lh3.googleusercontent.com/a/default-user=s64",
      "userId": "10632142881452902675"
     },
     "user_tz": 420
    },
    "id": "RjUY5F3UosAy",
    "outputId": "aa82744e-ecb0-4937-ac2d-55babcb9c3a2"
   },
   "outputs": [],
   "source": [
    "# Use .loc[]\n",
    "# First argument passed into loc specifies which rows to select\n",
    "# Second argument passed into loc specifies which columns to select\n",
    "netflix_data.loc[[\"Grey's Anatomy\" in title for title in netflix_data[\"Title\"]], :]"
   ]
  },
  {
   "cell_type": "code",
   "execution_count": null,
   "metadata": {},
   "outputs": [],
   "source": [
    "netflix_data.loc[[\"Grey's Anatomy\" in title for title in netflix_data[\"Title\"]], \"Title\"]"
   ]
  },
  {
   "cell_type": "markdown",
   "metadata": {
    "id": "JrQarvRX-N9n"
   },
   "source": [
    "On what date did I last watch (in other words finish watching) the show *Kim's Convenience*?"
   ]
  },
  {
   "cell_type": "code",
   "execution_count": 4,
   "metadata": {
    "executionInfo": {
     "elapsed": 16,
     "status": "ok",
     "timestamp": 1648060819224,
     "user": {
      "displayName": "Afro Fem Coders",
      "photoUrl": "https://lh3.googleusercontent.com/a/default-user=s64",
      "userId": "10632142881452902675"
     },
     "user_tz": 420
    },
    "id": "n1PIrR7OEE_H"
   },
   "outputs": [],
   "source": [
    "# One approach\n",
    "# Step 1: Zoom in on entries containing \"Kim's Convenience\" in the title\n",
    "# Step 2: Sort by the date \n",
    "# Step 3: Get just the dates\n",
    "# Step 4: Using .iloc[] get the latest date\n"
   ]
  },
  {
   "cell_type": "code",
   "execution_count": 5,
   "metadata": {
    "colab": {
     "base_uri": "https://localhost:8080/",
     "height": 424
    },
    "executionInfo": {
     "elapsed": 9,
     "status": "ok",
     "timestamp": 1648060819450,
     "user": {
      "displayName": "Afro Fem Coders",
      "photoUrl": "https://lh3.googleusercontent.com/a/default-user=s64",
      "userId": "10632142881452902675"
     },
     "user_tz": 420
    },
    "id": "NBRlwOfgKVBf",
    "outputId": "86fee273-bdec-4c61-e44b-bd4aa4c29b1f",
    "scrolled": true
   },
   "outputs": [
    {
     "data": {
      "text/html": [
       "<div>\n",
       "<style scoped>\n",
       "    .dataframe tbody tr th:only-of-type {\n",
       "        vertical-align: middle;\n",
       "    }\n",
       "\n",
       "    .dataframe tbody tr th {\n",
       "        vertical-align: top;\n",
       "    }\n",
       "\n",
       "    .dataframe thead th {\n",
       "        text-align: right;\n",
       "    }\n",
       "</style>\n",
       "<table border=\"1\" class=\"dataframe\">\n",
       "  <thead>\n",
       "    <tr style=\"text-align: right;\">\n",
       "      <th></th>\n",
       "      <th>Title</th>\n",
       "      <th>Date</th>\n",
       "    </tr>\n",
       "  </thead>\n",
       "  <tbody>\n",
       "    <tr>\n",
       "      <th>359</th>\n",
       "      <td>Kim's Convenience: Season 5: Family Business</td>\n",
       "      <td>6/28/21</td>\n",
       "    </tr>\n",
       "    <tr>\n",
       "      <th>360</th>\n",
       "      <td>Kim's Convenience: Season 5: Hugs &amp; Prayers</td>\n",
       "      <td>6/28/21</td>\n",
       "    </tr>\n",
       "    <tr>\n",
       "      <th>361</th>\n",
       "      <td>Kim's Convenience: Season 5: Matchy Matchy</td>\n",
       "      <td>6/28/21</td>\n",
       "    </tr>\n",
       "    <tr>\n",
       "      <th>362</th>\n",
       "      <td>Kim's Convenience: Season 5: Who's Pranking Who?</td>\n",
       "      <td>6/28/21</td>\n",
       "    </tr>\n",
       "    <tr>\n",
       "      <th>363</th>\n",
       "      <td>Kim's Convenience: Season 5: Field of Schemes</td>\n",
       "      <td>6/28/21</td>\n",
       "    </tr>\n",
       "    <tr>\n",
       "      <th>...</th>\n",
       "      <td>...</td>\n",
       "      <td>...</td>\n",
       "    </tr>\n",
       "    <tr>\n",
       "      <th>1529</th>\n",
       "      <td>Kim's Convenience: Season 1: Wingman</td>\n",
       "      <td>11/19/18</td>\n",
       "    </tr>\n",
       "    <tr>\n",
       "      <th>1530</th>\n",
       "      <td>Kim's Convenience: Season 1: Frank &amp; Nayoung</td>\n",
       "      <td>11/19/18</td>\n",
       "    </tr>\n",
       "    <tr>\n",
       "      <th>1531</th>\n",
       "      <td>Kim's Convenience: Season 1: Ddong Chim</td>\n",
       "      <td>11/19/18</td>\n",
       "    </tr>\n",
       "    <tr>\n",
       "      <th>1532</th>\n",
       "      <td>Kim's Convenience: Season 1: Janet's Photos</td>\n",
       "      <td>11/19/18</td>\n",
       "    </tr>\n",
       "    <tr>\n",
       "      <th>1533</th>\n",
       "      <td>Kim's Convenience: Season 1: Gay Discount</td>\n",
       "      <td>11/19/18</td>\n",
       "    </tr>\n",
       "  </tbody>\n",
       "</table>\n",
       "<p>65 rows × 2 columns</p>\n",
       "</div>"
      ],
      "text/plain": [
       "                                                 Title      Date\n",
       "359       Kim's Convenience: Season 5: Family Business   6/28/21\n",
       "360        Kim's Convenience: Season 5: Hugs & Prayers   6/28/21\n",
       "361         Kim's Convenience: Season 5: Matchy Matchy   6/28/21\n",
       "362   Kim's Convenience: Season 5: Who's Pranking Who?   6/28/21\n",
       "363      Kim's Convenience: Season 5: Field of Schemes   6/28/21\n",
       "...                                                ...       ...\n",
       "1529              Kim's Convenience: Season 1: Wingman  11/19/18\n",
       "1530      Kim's Convenience: Season 1: Frank & Nayoung  11/19/18\n",
       "1531           Kim's Convenience: Season 1: Ddong Chim  11/19/18\n",
       "1532       Kim's Convenience: Season 1: Janet's Photos  11/19/18\n",
       "1533         Kim's Convenience: Season 1: Gay Discount  11/19/18\n",
       "\n",
       "[65 rows x 2 columns]"
      ]
     },
     "execution_count": 5,
     "metadata": {},
     "output_type": "execute_result"
    }
   ],
   "source": [
    "# Step 1: Zoom in on entries containing \"Kim's Convenience\" in the title\n",
    "netflix_data.loc[[\"Kim's Convenience\" in title for title in netflix_data[\"Title\"]], :]"
   ]
  },
  {
   "cell_type": "markdown",
   "metadata": {},
   "source": [
    "[Reference for using .sort_values()](https://pandas.pydata.org/docs/reference/api/pandas.Series.sort_values.html)"
   ]
  },
  {
   "cell_type": "code",
   "execution_count": 6,
   "metadata": {
    "colab": {
     "base_uri": "https://localhost:8080/",
     "height": 424
    },
    "executionInfo": {
     "elapsed": 12,
     "status": "ok",
     "timestamp": 1648061241536,
     "user": {
      "displayName": "Afro Fem Coders",
      "photoUrl": "https://lh3.googleusercontent.com/a/default-user=s64",
      "userId": "10632142881452902675"
     },
     "user_tz": 420
    },
    "id": "JxgDjzxHLAqp",
    "outputId": "01544432-d260-49f0-a3b0-64cd61366174"
   },
   "outputs": [
    {
     "data": {
      "text/html": [
       "<div>\n",
       "<style scoped>\n",
       "    .dataframe tbody tr th:only-of-type {\n",
       "        vertical-align: middle;\n",
       "    }\n",
       "\n",
       "    .dataframe tbody tr th {\n",
       "        vertical-align: top;\n",
       "    }\n",
       "\n",
       "    .dataframe thead th {\n",
       "        text-align: right;\n",
       "    }\n",
       "</style>\n",
       "<table border=\"1\" class=\"dataframe\">\n",
       "  <thead>\n",
       "    <tr style=\"text-align: right;\">\n",
       "      <th></th>\n",
       "      <th>Title</th>\n",
       "      <th>Date</th>\n",
       "    </tr>\n",
       "  </thead>\n",
       "  <tbody>\n",
       "    <tr>\n",
       "      <th>359</th>\n",
       "      <td>Kim's Convenience: Season 5: Family Business</td>\n",
       "      <td>6/28/21</td>\n",
       "    </tr>\n",
       "    <tr>\n",
       "      <th>360</th>\n",
       "      <td>Kim's Convenience: Season 5: Hugs &amp; Prayers</td>\n",
       "      <td>6/28/21</td>\n",
       "    </tr>\n",
       "    <tr>\n",
       "      <th>361</th>\n",
       "      <td>Kim's Convenience: Season 5: Matchy Matchy</td>\n",
       "      <td>6/28/21</td>\n",
       "    </tr>\n",
       "    <tr>\n",
       "      <th>362</th>\n",
       "      <td>Kim's Convenience: Season 5: Who's Pranking Who?</td>\n",
       "      <td>6/28/21</td>\n",
       "    </tr>\n",
       "    <tr>\n",
       "      <th>363</th>\n",
       "      <td>Kim's Convenience: Season 5: Field of Schemes</td>\n",
       "      <td>6/28/21</td>\n",
       "    </tr>\n",
       "    <tr>\n",
       "      <th>...</th>\n",
       "      <td>...</td>\n",
       "      <td>...</td>\n",
       "    </tr>\n",
       "    <tr>\n",
       "      <th>1529</th>\n",
       "      <td>Kim's Convenience: Season 1: Wingman</td>\n",
       "      <td>11/19/18</td>\n",
       "    </tr>\n",
       "    <tr>\n",
       "      <th>1530</th>\n",
       "      <td>Kim's Convenience: Season 1: Frank &amp; Nayoung</td>\n",
       "      <td>11/19/18</td>\n",
       "    </tr>\n",
       "    <tr>\n",
       "      <th>1531</th>\n",
       "      <td>Kim's Convenience: Season 1: Ddong Chim</td>\n",
       "      <td>11/19/18</td>\n",
       "    </tr>\n",
       "    <tr>\n",
       "      <th>1532</th>\n",
       "      <td>Kim's Convenience: Season 1: Janet's Photos</td>\n",
       "      <td>11/19/18</td>\n",
       "    </tr>\n",
       "    <tr>\n",
       "      <th>1533</th>\n",
       "      <td>Kim's Convenience: Season 1: Gay Discount</td>\n",
       "      <td>11/19/18</td>\n",
       "    </tr>\n",
       "  </tbody>\n",
       "</table>\n",
       "<p>65 rows × 2 columns</p>\n",
       "</div>"
      ],
      "text/plain": [
       "                                                 Title      Date\n",
       "359       Kim's Convenience: Season 5: Family Business   6/28/21\n",
       "360        Kim's Convenience: Season 5: Hugs & Prayers   6/28/21\n",
       "361         Kim's Convenience: Season 5: Matchy Matchy   6/28/21\n",
       "362   Kim's Convenience: Season 5: Who's Pranking Who?   6/28/21\n",
       "363      Kim's Convenience: Season 5: Field of Schemes   6/28/21\n",
       "...                                                ...       ...\n",
       "1529              Kim's Convenience: Season 1: Wingman  11/19/18\n",
       "1530      Kim's Convenience: Season 1: Frank & Nayoung  11/19/18\n",
       "1531           Kim's Convenience: Season 1: Ddong Chim  11/19/18\n",
       "1532       Kim's Convenience: Season 1: Janet's Photos  11/19/18\n",
       "1533         Kim's Convenience: Season 1: Gay Discount  11/19/18\n",
       "\n",
       "[65 rows x 2 columns]"
      ]
     },
     "execution_count": 6,
     "metadata": {},
     "output_type": "execute_result"
    }
   ],
   "source": [
    "# Step 2: Sort by the date \n",
    "netflix_data.loc[[\"Kim's Convenience\" in title for title in netflix_data[\"Title\"]], :].sort_values(\"Date\", ascending=False)\n",
    "\n"
   ]
  },
  {
   "cell_type": "code",
   "execution_count": 7,
   "metadata": {
    "colab": {
     "base_uri": "https://localhost:8080/"
    },
    "executionInfo": {
     "elapsed": 151,
     "status": "ok",
     "timestamp": 1648061349354,
     "user": {
      "displayName": "Afro Fem Coders",
      "photoUrl": "https://lh3.googleusercontent.com/a/default-user=s64",
      "userId": "10632142881452902675"
     },
     "user_tz": 420
    },
    "id": "i1IRsMZqF_9Y",
    "outputId": "b821ec11-1497-409a-c6d3-d1744bc87be5"
   },
   "outputs": [
    {
     "data": {
      "text/plain": [
       "359      6/28/21\n",
       "360      6/28/21\n",
       "361      6/28/21\n",
       "362      6/28/21\n",
       "363      6/28/21\n",
       "          ...   \n",
       "1529    11/19/18\n",
       "1530    11/19/18\n",
       "1531    11/19/18\n",
       "1532    11/19/18\n",
       "1533    11/19/18\n",
       "Name: Date, Length: 65, dtype: object"
      ]
     },
     "execution_count": 7,
     "metadata": {},
     "output_type": "execute_result"
    }
   ],
   "source": [
    "# Step 3: Get just the dates\n",
    "\n",
    "netflix_data.loc[[\"Kim's Convenience\" in title for title in netflix_data[\"Title\"]], :].sort_values(\"Date\", ascending=False)[\"Date\"]\n"
   ]
  },
  {
   "cell_type": "markdown",
   "metadata": {},
   "source": [
    "[Reference for using .iloc[]](https://pandas.pydata.org/docs/reference/api/pandas.Series.iloc.html)"
   ]
  },
  {
   "cell_type": "code",
   "execution_count": 8,
   "metadata": {
    "colab": {
     "base_uri": "https://localhost:8080/",
     "height": 35
    },
    "executionInfo": {
     "elapsed": 182,
     "status": "ok",
     "timestamp": 1648061413368,
     "user": {
      "displayName": "Afro Fem Coders",
      "photoUrl": "https://lh3.googleusercontent.com/a/default-user=s64",
      "userId": "10632142881452902675"
     },
     "user_tz": 420
    },
    "id": "J7I0VmUQHT8A",
    "outputId": "dd2c67ad-2d0f-48ce-886a-e41eafe43e8f"
   },
   "outputs": [
    {
     "data": {
      "text/plain": [
       "'6/28/21'"
      ]
     },
     "execution_count": 8,
     "metadata": {},
     "output_type": "execute_result"
    }
   ],
   "source": [
    "# Step 4: Using .iloc[] get the latest date\n",
    "\n",
    "netflix_data.loc[[\"Kim's Convenience\" in title for title in netflix_data[\"Title\"]], :].sort_values(\"Date\", ascending=False)[\"Date\"].iloc[0]\n",
    "\n"
   ]
  },
  {
   "cell_type": "code",
   "execution_count": 12,
   "metadata": {
    "scrolled": true
   },
   "outputs": [
    {
     "data": {
      "text/plain": [
       "'6/28/21'"
      ]
     },
     "execution_count": 12,
     "metadata": {},
     "output_type": "execute_result"
    }
   ],
   "source": [
    "# Another approach\n",
    "# Step 1: Zoom in on entries containing \"Kim's Convenience\" in the title\n",
    "# Step 2: Get just the dates\n",
    "# Step 3: Sort by the date \n",
    "# Step 4: Using .iloc[] get the latest date\n",
    "netflix_data.loc[[\"Kim's Convenience\" in title for title in netflix_data[\"Title\"]], \"Date\"].sort_values(ascending=False).iloc[0]\n",
    "\n"
   ]
  },
  {
   "cell_type": "markdown",
   "metadata": {
    "id": "TNwlK75jHc4S"
   },
   "source": [
    "What is the last episode of *Kim's Convenience* that I watched?"
   ]
  },
  {
   "cell_type": "code",
   "execution_count": 13,
   "metadata": {
    "id": "P2YWvQqTHlYZ"
   },
   "outputs": [],
   "source": [
    "# Step 1: Zoom in on entries containing \"Kim's Convenience\" in the title\n",
    "# Step 2: Sort by the date \n",
    "# Step 3: Get just the titles\n",
    "# Step 4: Get the latest title\n"
   ]
  },
  {
   "cell_type": "code",
   "execution_count": 14,
   "metadata": {
    "colab": {
     "base_uri": "https://localhost:8080/"
    },
    "executionInfo": {
     "elapsed": 177,
     "status": "ok",
     "timestamp": 1648061624278,
     "user": {
      "displayName": "Afro Fem Coders",
      "photoUrl": "https://lh3.googleusercontent.com/a/default-user=s64",
      "userId": "10632142881452902675"
     },
     "user_tz": 420
    },
    "id": "rAYDJViTIA1k",
    "outputId": "a4d34666-aaa0-4b6f-a9d1-32d02bd83abe"
   },
   "outputs": [
    {
     "data": {
      "text/plain": [
       "359         Kim's Convenience: Season 5: Family Business\n",
       "360          Kim's Convenience: Season 5: Hugs & Prayers\n",
       "361           Kim's Convenience: Season 5: Matchy Matchy\n",
       "362     Kim's Convenience: Season 5: Who's Pranking Who?\n",
       "363        Kim's Convenience: Season 5: Field of Schemes\n",
       "                              ...                       \n",
       "1529                Kim's Convenience: Season 1: Wingman\n",
       "1530        Kim's Convenience: Season 1: Frank & Nayoung\n",
       "1531             Kim's Convenience: Season 1: Ddong Chim\n",
       "1532         Kim's Convenience: Season 1: Janet's Photos\n",
       "1533           Kim's Convenience: Season 1: Gay Discount\n",
       "Name: Title, Length: 65, dtype: object"
      ]
     },
     "execution_count": 14,
     "metadata": {},
     "output_type": "execute_result"
    }
   ],
   "source": [
    "# Steps 1-3 combined\n",
    "netflix_data.loc[[\"Kim's Convenience\" in title for title in netflix_data[\"Title\"]], :].sort_values(\"Date\", ascending=False)[\"Title\"]\n"
   ]
  },
  {
   "cell_type": "code",
   "execution_count": 15,
   "metadata": {
    "colab": {
     "base_uri": "https://localhost:8080/",
     "height": 35
    },
    "executionInfo": {
     "elapsed": 187,
     "status": "ok",
     "timestamp": 1648061702520,
     "user": {
      "displayName": "Afro Fem Coders",
      "photoUrl": "https://lh3.googleusercontent.com/a/default-user=s64",
      "userId": "10632142881452902675"
     },
     "user_tz": 420
    },
    "id": "nmmBZfcRIMlk",
    "outputId": "ef0798f5-25f8-4b2f-dbf3-b6dcf3592eb8"
   },
   "outputs": [
    {
     "data": {
      "text/plain": [
       "\"Kim's Convenience: Season 5: Family Business\""
      ]
     },
     "execution_count": 15,
     "metadata": {},
     "output_type": "execute_result"
    }
   ],
   "source": [
    "# Step 4\n",
    "\n",
    "netflix_data.loc[[\"Kim's Convenience\" in title for title in netflix_data[\"Title\"]], :].sort_values(\"Date\", ascending=False)[\"Title\"].iloc[0]\n"
   ]
  },
  {
   "cell_type": "markdown",
   "metadata": {
    "id": "2vr_lBzBmOdD"
   },
   "source": [
    "What percentage of my Netflix viewing consists of watching shows? What percentage of my Netflix viewing consists of watching movies?\n",
    "\n",
    "Assumptions: \n",
    "\n",
    "* 2 main categories of what I watch on Netflix, shows and movies\n",
    "* \"Season\" and \"Chapter\" are the main keywords indicating that a title is from a show"
   ]
  },
  {
   "cell_type": "code",
   "execution_count": null,
   "metadata": {},
   "outputs": [],
   "source": [
    "# Step 1: Identify whether each title is from a show\n",
    "# Step 2: Compute the proportion of Netflix viewing spent on watching shows\n",
    "# Step 3: Convert the proportion for shows to a percentage and save in a variable for convenience\n",
    "# Step 4: Compute the percentage for movies and save in a variable for convenience\n"
   ]
  },
  {
   "cell_type": "code",
   "execution_count": 16,
   "metadata": {
    "colab": {
     "base_uri": "https://localhost:8080/"
    },
    "executionInfo": {
     "elapsed": 297,
     "status": "ok",
     "timestamp": 1648062573856,
     "user": {
      "displayName": "Afro Fem Coders",
      "photoUrl": "https://lh3.googleusercontent.com/a/default-user=s64",
      "userId": "10632142881452902675"
     },
     "user_tz": 420
    },
    "id": "vqleAVIZIszS",
    "outputId": "172c4646-05f3-4593-b710-0f9451bcd974"
   },
   "outputs": [
    {
     "data": {
      "text/plain": [
       "0        True\n",
       "1        True\n",
       "2        True\n",
       "3        True\n",
       "4        True\n",
       "        ...  \n",
       "1967     True\n",
       "1968     True\n",
       "1969     True\n",
       "1970     True\n",
       "1971    False\n",
       "Name: Title, Length: 1972, dtype: bool"
      ]
     },
     "execution_count": 16,
     "metadata": {},
     "output_type": "execute_result"
    }
   ],
   "source": [
    "# Step 1: Identify whether each title is from a show\n",
    "netflix_data[\"Title\"].apply(lambda title: \"Season\" in title or \"Chapter\" in title)"
   ]
  },
  {
   "cell_type": "code",
   "execution_count": 17,
   "metadata": {
    "colab": {
     "base_uri": "https://localhost:8080/"
    },
    "executionInfo": {
     "elapsed": 179,
     "status": "ok",
     "timestamp": 1648063231538,
     "user": {
      "displayName": "Afro Fem Coders",
      "photoUrl": "https://lh3.googleusercontent.com/a/default-user=s64",
      "userId": "10632142881452902675"
     },
     "user_tz": 420
    },
    "id": "sckZJ7-LLyqh",
    "outputId": "81f01249-b280-4814-f655-8a5d0912661f"
   },
   "outputs": [
    {
     "data": {
      "text/plain": [
       "0.9031440162271805"
      ]
     },
     "execution_count": 17,
     "metadata": {},
     "output_type": "execute_result"
    }
   ],
   "source": [
    "# Step 2: Compute the proportion of Netflix viewing spent on watching shows\n",
    "netflix_data[\"Title\"].apply(lambda title: \"Season\" in title or \"Chapter\" in title).sum() / len(netflix_data[\"Title\"].apply(lambda title: \"Season\" in title or \"Chapter\" in title))\n"
   ]
  },
  {
   "cell_type": "code",
   "execution_count": 19,
   "metadata": {
    "colab": {
     "base_uri": "https://localhost:8080/"
    },
    "executionInfo": {
     "elapsed": 189,
     "status": "ok",
     "timestamp": 1648063443764,
     "user": {
      "displayName": "Afro Fem Coders",
      "photoUrl": "https://lh3.googleusercontent.com/a/default-user=s64",
      "userId": "10632142881452902675"
     },
     "user_tz": 420
    },
    "id": "BI7myv6bOTQH",
    "outputId": "b3e10898-27c8-420a-ab30-92a46a2ee305"
   },
   "outputs": [
    {
     "data": {
      "text/plain": [
       "90.31440162271805"
      ]
     },
     "execution_count": 19,
     "metadata": {},
     "output_type": "execute_result"
    }
   ],
   "source": [
    "# Step 3: Convert the proportion for shows to a percentage and save in a variable for convenience\n",
    "\n",
    "show_percentage = netflix_data[\"Title\"].apply(lambda title: \"Season\" in title or \"Chapter\" in title).sum() / len(netflix_data[\"Title\"].apply(lambda title: \"Season\" in title or \"Chapter\" in title)) * 100\n",
    "show_percentage\n"
   ]
  },
  {
   "cell_type": "code",
   "execution_count": 20,
   "metadata": {
    "colab": {
     "base_uri": "https://localhost:8080/"
    },
    "executionInfo": {
     "elapsed": 166,
     "status": "ok",
     "timestamp": 1648063674194,
     "user": {
      "displayName": "Afro Fem Coders",
      "photoUrl": "https://lh3.googleusercontent.com/a/default-user=s64",
      "userId": "10632142881452902675"
     },
     "user_tz": 420
    },
    "id": "dMulhMOvPHEp",
    "outputId": "168dbc24-5462-4bde-c130-f7e061a81154"
   },
   "outputs": [
    {
     "data": {
      "text/plain": [
       "9.685598377281949"
      ]
     },
     "execution_count": 20,
     "metadata": {},
     "output_type": "execute_result"
    }
   ],
   "source": [
    "# Step 4: Compute the percentage for movies and save in a variable for convenience\n",
    "\n",
    "movie_percentage = 100 - show_percentage\n",
    "movie_percentage"
   ]
  },
  {
   "cell_type": "markdown",
   "metadata": {
    "id": "pXR0F0xAXBUy"
   },
   "source": [
    "Now let's say you don't want to use *lambda* and want to separately define a function that identifies whether a title is from a show. "
   ]
  },
  {
   "cell_type": "code",
   "execution_count": 21,
   "metadata": {
    "executionInfo": {
     "elapsed": 175,
     "status": "ok",
     "timestamp": 1648066149988,
     "user": {
      "displayName": "Afro Fem Coders",
      "photoUrl": "https://lh3.googleusercontent.com/a/default-user=s64",
      "userId": "10632142881452902675"
     },
     "user_tz": 420
    },
    "id": "EitJGhGjXdiu"
   },
   "outputs": [],
   "source": [
    "# define function\n",
    "def is_show(title):\n",
    "    return \"Season\" in title or \"Chapter\" in title\n"
   ]
  },
  {
   "cell_type": "code",
   "execution_count": 22,
   "metadata": {
    "colab": {
     "base_uri": "https://localhost:8080/"
    },
    "executionInfo": {
     "elapsed": 149,
     "status": "ok",
     "timestamp": 1648066212423,
     "user": {
      "displayName": "Afro Fem Coders",
      "photoUrl": "https://lh3.googleusercontent.com/a/default-user=s64",
      "userId": "10632142881452902675"
     },
     "user_tz": 420
    },
    "id": "i9_uCVI-ZctS",
    "outputId": "d5a0cea2-ac58-421f-edea-1c03431382e1"
   },
   "outputs": [
    {
     "data": {
      "text/plain": [
       "0        True\n",
       "1        True\n",
       "2        True\n",
       "3        True\n",
       "4        True\n",
       "        ...  \n",
       "1967     True\n",
       "1968     True\n",
       "1969     True\n",
       "1970     True\n",
       "1971    False\n",
       "Name: Title, Length: 1972, dtype: bool"
      ]
     },
     "execution_count": 22,
     "metadata": {},
     "output_type": "execute_result"
    }
   ],
   "source": [
    "# test out function\n",
    "netflix_data[\"Title\"].apply(is_show)\n"
   ]
  },
  {
   "cell_type": "markdown",
   "metadata": {
    "id": "FSqM1CVRYZTu"
   },
   "source": [
    "Now let's say you want to write a more generic way of checking whether a value contains a keyword."
   ]
  },
  {
   "cell_type": "code",
   "execution_count": 23,
   "metadata": {
    "id": "gK3XMjUFaCxT"
   },
   "outputs": [],
   "source": [
    "# define function\n",
    "def contains_keyword(value, keywords):\n",
    "    return any(keyword in value for keyword in keywords)\n"
   ]
  },
  {
   "cell_type": "markdown",
   "metadata": {
    "id": "3gMICYFAYpRI"
   },
   "source": [
    "Now let's create a list of keywords for our specific case and test out this new function on it."
   ]
  },
  {
   "cell_type": "code",
   "execution_count": 25,
   "metadata": {},
   "outputs": [
    {
     "data": {
      "text/plain": [
       "['Chapter', 'Season']"
      ]
     },
     "execution_count": 25,
     "metadata": {},
     "output_type": "execute_result"
    }
   ],
   "source": [
    "# create a list of keywords\n",
    "keywords = [\"Chapter\", \"Season\"]\n",
    "keywords"
   ]
  },
  {
   "cell_type": "code",
   "execution_count": 26,
   "metadata": {},
   "outputs": [
    {
     "data": {
      "text/plain": [
       "0        True\n",
       "1        True\n",
       "2        True\n",
       "3        True\n",
       "4        True\n",
       "        ...  \n",
       "1967     True\n",
       "1968     True\n",
       "1969     True\n",
       "1970     True\n",
       "1971    False\n",
       "Name: Title, Length: 1972, dtype: bool"
      ]
     },
     "execution_count": 26,
     "metadata": {},
     "output_type": "execute_result"
    }
   ],
   "source": [
    "# test out function\n",
    "netflix_data[\"Title\"].apply(contains_keyword, args=(keywords,))\n"
   ]
  },
  {
   "cell_type": "code",
   "execution_count": null,
   "metadata": {},
   "outputs": [],
   "source": []
  }
 ],
 "metadata": {
  "colab": {
   "authorship_tag": "ABX9TyPTPNO9sozr61hlBpzsF4OT",
   "collapsed_sections": [],
   "name": "working_with_netflix_data.ipynb",
   "provenance": []
  },
  "kernelspec": {
   "display_name": "Python 3 (ipykernel)",
   "language": "python",
   "name": "python3"
  },
  "language_info": {
   "codemirror_mode": {
    "name": "ipython",
    "version": 3
   },
   "file_extension": ".py",
   "mimetype": "text/x-python",
   "name": "python",
   "nbconvert_exporter": "python",
   "pygments_lexer": "ipython3",
   "version": "3.9.12"
  }
 },
 "nbformat": 4,
 "nbformat_minor": 1
}
